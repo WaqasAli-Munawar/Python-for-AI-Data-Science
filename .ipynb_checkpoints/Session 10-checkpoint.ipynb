{
 "cells": [
  {
   "cell_type": "code",
   "execution_count": 1,
   "id": "c7fedceb",
   "metadata": {},
   "outputs": [],
   "source": [
    "import requests"
   ]
  },
  {
   "cell_type": "code",
   "execution_count": 2,
   "id": "8b8a9f44",
   "metadata": {},
   "outputs": [],
   "source": [
    "url = \"https://api.exchangerate-api.com/v4/latest/usd\""
   ]
  },
  {
   "cell_type": "code",
   "execution_count": 3,
   "id": "312028d3",
   "metadata": {},
   "outputs": [],
   "source": [
    "response = requests.get(url)"
   ]
  },
  {
   "cell_type": "code",
   "execution_count": 4,
   "id": "2cf9ce06",
   "metadata": {},
   "outputs": [
    {
     "data": {
      "text/plain": [
       "<Response [200]>"
      ]
     },
     "execution_count": 4,
     "metadata": {},
     "output_type": "execute_result"
    }
   ],
   "source": [
    "response"
   ]
  },
  {
   "cell_type": "code",
   "execution_count": 5,
   "id": "12ddd733",
   "metadata": {},
   "outputs": [
    {
     "data": {
      "text/plain": [
       "{'provider': 'https://www.exchangerate-api.com',\n",
       " 'WARNING_UPGRADE_TO_V6': 'https://www.exchangerate-api.com/docs/free',\n",
       " 'terms': 'https://www.exchangerate-api.com/terms',\n",
       " 'base': 'USD',\n",
       " 'date': '2023-10-29',\n",
       " 'time_last_updated': 1698537601,\n",
       " 'rates': {'USD': 1,\n",
       "  'AED': 3.67,\n",
       "  'AFN': 74.44,\n",
       "  'ALL': 100.15,\n",
       "  'AMD': 401.94,\n",
       "  'ANG': 1.79,\n",
       "  'AOA': 832.67,\n",
       "  'ARS': 350.01,\n",
       "  'AUD': 1.58,\n",
       "  'AWG': 1.79,\n",
       "  'AZN': 1.7,\n",
       "  'BAM': 1.85,\n",
       "  'BBD': 2,\n",
       "  'BDT': 110.23,\n",
       "  'BGN': 1.85,\n",
       "  'BHD': 0.376,\n",
       "  'BIF': 2828.14,\n",
       "  'BMD': 1,\n",
       "  'BND': 1.37,\n",
       "  'BOB': 6.92,\n",
       "  'BRL': 4.99,\n",
       "  'BSD': 1,\n",
       "  'BTN': 83.3,\n",
       "  'BWP': 13.79,\n",
       "  'BYN': 3.28,\n",
       "  'BZD': 2,\n",
       "  'CAD': 1.38,\n",
       "  'CDF': 2559.42,\n",
       "  'CHF': 0.902,\n",
       "  'CLP': 931.44,\n",
       "  'CNY': 7.32,\n",
       "  'COP': 4190.44,\n",
       "  'CRC': 531.06,\n",
       "  'CUP': 24,\n",
       "  'CVE': 104.38,\n",
       "  'CZK': 23.33,\n",
       "  'DJF': 177.72,\n",
       "  'DKK': 7.06,\n",
       "  'DOP': 56.82,\n",
       "  'DZD': 136.86,\n",
       "  'EGP': 30.9,\n",
       "  'ERN': 15,\n",
       "  'ETB': 55.76,\n",
       "  'EUR': 0.947,\n",
       "  'FJD': 2.28,\n",
       "  'FKP': 0.824,\n",
       "  'FOK': 7.06,\n",
       "  'GBP': 0.824,\n",
       "  'GEL': 2.7,\n",
       "  'GGP': 0.824,\n",
       "  'GHS': 11.97,\n",
       "  'GIP': 0.824,\n",
       "  'GMD': 64.72,\n",
       "  'GNF': 8588.63,\n",
       "  'GTQ': 7.84,\n",
       "  'GYD': 209.05,\n",
       "  'HKD': 7.82,\n",
       "  'HNL': 24.68,\n",
       "  'HRK': 7.13,\n",
       "  'HTG': 133.33,\n",
       "  'HUF': 362.55,\n",
       "  'IDR': 15927.96,\n",
       "  'ILS': 4.07,\n",
       "  'IMP': 0.824,\n",
       "  'INR': 83.3,\n",
       "  'IQD': 1308.62,\n",
       "  'IRR': 41944.63,\n",
       "  'ISK': 139.61,\n",
       "  'JEP': 0.824,\n",
       "  'JMD': 155.37,\n",
       "  'JOD': 0.709,\n",
       "  'JPY': 149.82,\n",
       "  'KES': 150.68,\n",
       "  'KGS': 88.96,\n",
       "  'KHR': 4125.15,\n",
       "  'KID': 1.58,\n",
       "  'KMF': 465.71,\n",
       "  'KRW': 1355.56,\n",
       "  'KWD': 0.309,\n",
       "  'KYD': 0.833,\n",
       "  'KZT': 472.12,\n",
       "  'LAK': 20649.37,\n",
       "  'LBP': 15000,\n",
       "  'LKR': 326.77,\n",
       "  'LRD': 190.77,\n",
       "  'LSL': 18.84,\n",
       "  'LYD': 4.88,\n",
       "  'MAD': 10.27,\n",
       "  'MDL': 18.13,\n",
       "  'MGA': 4528.57,\n",
       "  'MKD': 58.32,\n",
       "  'MMK': 2100.14,\n",
       "  'MNT': 3476.21,\n",
       "  'MOP': 8.06,\n",
       "  'MRU': 38.76,\n",
       "  'MUR': 44.25,\n",
       "  'MVR': 15.44,\n",
       "  'MWK': 1162.79,\n",
       "  'MXN': 18.11,\n",
       "  'MYR': 4.78,\n",
       "  'MZN': 63.86,\n",
       "  'NAD': 18.84,\n",
       "  'NGN': 797.24,\n",
       "  'NIO': 36.58,\n",
       "  'NOK': 11.18,\n",
       "  'NPR': 133.28,\n",
       "  'NZD': 1.72,\n",
       "  'OMR': 0.384,\n",
       "  'PAB': 1,\n",
       "  'PEN': 3.86,\n",
       "  'PGK': 3.71,\n",
       "  'PHP': 56.96,\n",
       "  'PKR': 280.16,\n",
       "  'PLN': 4.22,\n",
       "  'PYG': 7390.86,\n",
       "  'QAR': 3.64,\n",
       "  'RON': 4.7,\n",
       "  'RSD': 110.77,\n",
       "  'RUB': 93.64,\n",
       "  'RWF': 1262.09,\n",
       "  'SAR': 3.75,\n",
       "  'SBD': 8.48,\n",
       "  'SCR': 13.52,\n",
       "  'SDG': 581.07,\n",
       "  'SEK': 11.16,\n",
       "  'SGD': 1.37,\n",
       "  'SHP': 0.824,\n",
       "  'SLE': 22.66,\n",
       "  'SLL': 22656.12,\n",
       "  'SOS': 570.88,\n",
       "  'SRD': 38.17,\n",
       "  'SSP': 1037.82,\n",
       "  'STN': 23.19,\n",
       "  'SYP': 12935.46,\n",
       "  'SZL': 18.84,\n",
       "  'THB': 36.19,\n",
       "  'TJS': 10.94,\n",
       "  'TMT': 3.5,\n",
       "  'TND': 3.17,\n",
       "  'TOP': 2.38,\n",
       "  'TRY': 28.22,\n",
       "  'TTD': 6.76,\n",
       "  'TVD': 1.58,\n",
       "  'TWD': 32.42,\n",
       "  'TZS': 2495.93,\n",
       "  'UAH': 36.44,\n",
       "  'UGX': 3770.78,\n",
       "  'UYU': 39.87,\n",
       "  'UZS': 12194.79,\n",
       "  'VES': 35.13,\n",
       "  'VND': 24566.45,\n",
       "  'VUV': 122.47,\n",
       "  'WST': 2.79,\n",
       "  'XAF': 620.95,\n",
       "  'XCD': 2.7,\n",
       "  'XDR': 0.763,\n",
       "  'XOF': 620.95,\n",
       "  'XPF': 112.96,\n",
       "  'YER': 250.11,\n",
       "  'ZAR': 18.85,\n",
       "  'ZMW': 21.9,\n",
       "  'ZWL': 5693.21}}"
      ]
     },
     "execution_count": 5,
     "metadata": {},
     "output_type": "execute_result"
    }
   ],
   "source": [
    "data = response.json()\n",
    "\n",
    "data"
   ]
  },
  {
   "cell_type": "code",
   "execution_count": 7,
   "id": "7b94e842",
   "metadata": {},
   "outputs": [
    {
     "data": {
      "text/plain": [
       "280.16"
      ]
     },
     "execution_count": 7,
     "metadata": {},
     "output_type": "execute_result"
    }
   ],
   "source": [
    "data[\"rates\"][\"PKR\"]"
   ]
  },
  {
   "cell_type": "code",
   "execution_count": 8,
   "id": "66862f42",
   "metadata": {},
   "outputs": [
    {
     "data": {
      "text/plain": [
       "{'USD': 1,\n",
       " 'AED': 3.67,\n",
       " 'AFN': 74.44,\n",
       " 'ALL': 100.15,\n",
       " 'AMD': 401.94,\n",
       " 'ANG': 1.79,\n",
       " 'AOA': 832.67,\n",
       " 'ARS': 350.01,\n",
       " 'AUD': 1.58,\n",
       " 'AWG': 1.79,\n",
       " 'AZN': 1.7,\n",
       " 'BAM': 1.85,\n",
       " 'BBD': 2,\n",
       " 'BDT': 110.23,\n",
       " 'BGN': 1.85,\n",
       " 'BHD': 0.376,\n",
       " 'BIF': 2828.14,\n",
       " 'BMD': 1,\n",
       " 'BND': 1.37,\n",
       " 'BOB': 6.92,\n",
       " 'BRL': 4.99,\n",
       " 'BSD': 1,\n",
       " 'BTN': 83.3,\n",
       " 'BWP': 13.79,\n",
       " 'BYN': 3.28,\n",
       " 'BZD': 2,\n",
       " 'CAD': 1.38,\n",
       " 'CDF': 2559.42,\n",
       " 'CHF': 0.902,\n",
       " 'CLP': 931.44,\n",
       " 'CNY': 7.32,\n",
       " 'COP': 4190.44,\n",
       " 'CRC': 531.06,\n",
       " 'CUP': 24,\n",
       " 'CVE': 104.38,\n",
       " 'CZK': 23.33,\n",
       " 'DJF': 177.72,\n",
       " 'DKK': 7.06,\n",
       " 'DOP': 56.82,\n",
       " 'DZD': 136.86,\n",
       " 'EGP': 30.9,\n",
       " 'ERN': 15,\n",
       " 'ETB': 55.76,\n",
       " 'EUR': 0.947,\n",
       " 'FJD': 2.28,\n",
       " 'FKP': 0.824,\n",
       " 'FOK': 7.06,\n",
       " 'GBP': 0.824,\n",
       " 'GEL': 2.7,\n",
       " 'GGP': 0.824,\n",
       " 'GHS': 11.97,\n",
       " 'GIP': 0.824,\n",
       " 'GMD': 64.72,\n",
       " 'GNF': 8588.63,\n",
       " 'GTQ': 7.84,\n",
       " 'GYD': 209.05,\n",
       " 'HKD': 7.82,\n",
       " 'HNL': 24.68,\n",
       " 'HRK': 7.13,\n",
       " 'HTG': 133.33,\n",
       " 'HUF': 362.55,\n",
       " 'IDR': 15927.96,\n",
       " 'ILS': 4.07,\n",
       " 'IMP': 0.824,\n",
       " 'INR': 83.3,\n",
       " 'IQD': 1308.62,\n",
       " 'IRR': 41944.63,\n",
       " 'ISK': 139.61,\n",
       " 'JEP': 0.824,\n",
       " 'JMD': 155.37,\n",
       " 'JOD': 0.709,\n",
       " 'JPY': 149.82,\n",
       " 'KES': 150.68,\n",
       " 'KGS': 88.96,\n",
       " 'KHR': 4125.15,\n",
       " 'KID': 1.58,\n",
       " 'KMF': 465.71,\n",
       " 'KRW': 1355.56,\n",
       " 'KWD': 0.309,\n",
       " 'KYD': 0.833,\n",
       " 'KZT': 472.12,\n",
       " 'LAK': 20649.37,\n",
       " 'LBP': 15000,\n",
       " 'LKR': 326.77,\n",
       " 'LRD': 190.77,\n",
       " 'LSL': 18.84,\n",
       " 'LYD': 4.88,\n",
       " 'MAD': 10.27,\n",
       " 'MDL': 18.13,\n",
       " 'MGA': 4528.57,\n",
       " 'MKD': 58.32,\n",
       " 'MMK': 2100.14,\n",
       " 'MNT': 3476.21,\n",
       " 'MOP': 8.06,\n",
       " 'MRU': 38.76,\n",
       " 'MUR': 44.25,\n",
       " 'MVR': 15.44,\n",
       " 'MWK': 1162.79,\n",
       " 'MXN': 18.11,\n",
       " 'MYR': 4.78,\n",
       " 'MZN': 63.86,\n",
       " 'NAD': 18.84,\n",
       " 'NGN': 797.24,\n",
       " 'NIO': 36.58,\n",
       " 'NOK': 11.18,\n",
       " 'NPR': 133.28,\n",
       " 'NZD': 1.72,\n",
       " 'OMR': 0.384,\n",
       " 'PAB': 1,\n",
       " 'PEN': 3.86,\n",
       " 'PGK': 3.71,\n",
       " 'PHP': 56.96,\n",
       " 'PKR': 280.16,\n",
       " 'PLN': 4.22,\n",
       " 'PYG': 7390.86,\n",
       " 'QAR': 3.64,\n",
       " 'RON': 4.7,\n",
       " 'RSD': 110.77,\n",
       " 'RUB': 93.64,\n",
       " 'RWF': 1262.09,\n",
       " 'SAR': 3.75,\n",
       " 'SBD': 8.48,\n",
       " 'SCR': 13.52,\n",
       " 'SDG': 581.07,\n",
       " 'SEK': 11.16,\n",
       " 'SGD': 1.37,\n",
       " 'SHP': 0.824,\n",
       " 'SLE': 22.66,\n",
       " 'SLL': 22656.12,\n",
       " 'SOS': 570.88,\n",
       " 'SRD': 38.17,\n",
       " 'SSP': 1037.82,\n",
       " 'STN': 23.19,\n",
       " 'SYP': 12935.46,\n",
       " 'SZL': 18.84,\n",
       " 'THB': 36.19,\n",
       " 'TJS': 10.94,\n",
       " 'TMT': 3.5,\n",
       " 'TND': 3.17,\n",
       " 'TOP': 2.38,\n",
       " 'TRY': 28.22,\n",
       " 'TTD': 6.76,\n",
       " 'TVD': 1.58,\n",
       " 'TWD': 32.42,\n",
       " 'TZS': 2495.93,\n",
       " 'UAH': 36.44,\n",
       " 'UGX': 3770.78,\n",
       " 'UYU': 39.87,\n",
       " 'UZS': 12194.79,\n",
       " 'VES': 35.13,\n",
       " 'VND': 24566.45,\n",
       " 'VUV': 122.47,\n",
       " 'WST': 2.79,\n",
       " 'XAF': 620.95,\n",
       " 'XCD': 2.7,\n",
       " 'XDR': 0.763,\n",
       " 'XOF': 620.95,\n",
       " 'XPF': 112.96,\n",
       " 'YER': 250.11,\n",
       " 'ZAR': 18.85,\n",
       " 'ZMW': 21.9,\n",
       " 'ZWL': 5693.21}"
      ]
     },
     "execution_count": 8,
     "metadata": {},
     "output_type": "execute_result"
    }
   ],
   "source": [
    "data[\"rates\"]"
   ]
  },
  {
   "cell_type": "code",
   "execution_count": 9,
   "id": "af0b7f05",
   "metadata": {},
   "outputs": [],
   "source": [
    "def weakest_cur(url): # Parameter\n",
    "    data = requests.get(url).json()\n",
    "    weekest_rates = 0\n",
    "    currency_code = \"\"\n",
    "    \n",
    "    rates = data[\"rates\"] # dictionary\n",
    "    \n",
    "    for country_code in rates:\n",
    "        exc_rate = rates[country_code]\n",
    "        if exc_rate > weekest_rates:\n",
    "            weekest_rates= exc_rate\n",
    "            currency_code = country_code\n",
    "            \n",
    "    return country_code    \n",
    "    "
   ]
  },
  {
   "cell_type": "code",
   "execution_count": 10,
   "id": "ecd3032a",
   "metadata": {},
   "outputs": [
    {
     "data": {
      "text/plain": [
       "'ZWL'"
      ]
     },
     "execution_count": 10,
     "metadata": {},
     "output_type": "execute_result"
    }
   ],
   "source": [
    "weakest_cur(url) # url argumnet"
   ]
  },
  {
   "cell_type": "code",
   "execution_count": 11,
   "id": "b5df0deb",
   "metadata": {},
   "outputs": [
    {
     "data": {
      "text/plain": [
       "5693.21"
      ]
     },
     "execution_count": 11,
     "metadata": {},
     "output_type": "execute_result"
    }
   ],
   "source": [
    "data[\"rates\"][weakest_cur(url)]"
   ]
  },
  {
   "cell_type": "code",
   "execution_count": 12,
   "id": "a851e5d6",
   "metadata": {},
   "outputs": [],
   "source": [
    "usd_api_data = data"
   ]
  },
  {
   "cell_type": "code",
   "execution_count": 13,
   "id": "69a6485f",
   "metadata": {},
   "outputs": [
    {
     "data": {
      "text/plain": [
       "{'USD': 1,\n",
       " 'AED': 3.67,\n",
       " 'AFN': 74.44,\n",
       " 'ALL': 100.15,\n",
       " 'AMD': 401.94,\n",
       " 'ANG': 1.79,\n",
       " 'AOA': 832.67,\n",
       " 'ARS': 350.01,\n",
       " 'AUD': 1.58,\n",
       " 'AWG': 1.79,\n",
       " 'AZN': 1.7,\n",
       " 'BAM': 1.85,\n",
       " 'BBD': 2,\n",
       " 'BDT': 110.23,\n",
       " 'BGN': 1.85,\n",
       " 'BHD': 0.376,\n",
       " 'BIF': 2828.14,\n",
       " 'BMD': 1,\n",
       " 'BND': 1.37,\n",
       " 'BOB': 6.92,\n",
       " 'BRL': 4.99,\n",
       " 'BSD': 1,\n",
       " 'BTN': 83.3,\n",
       " 'BWP': 13.79,\n",
       " 'BYN': 3.28,\n",
       " 'BZD': 2,\n",
       " 'CAD': 1.38,\n",
       " 'CDF': 2559.42,\n",
       " 'CHF': 0.902,\n",
       " 'CLP': 931.44,\n",
       " 'CNY': 7.32,\n",
       " 'COP': 4190.44,\n",
       " 'CRC': 531.06,\n",
       " 'CUP': 24,\n",
       " 'CVE': 104.38,\n",
       " 'CZK': 23.33,\n",
       " 'DJF': 177.72,\n",
       " 'DKK': 7.06,\n",
       " 'DOP': 56.82,\n",
       " 'DZD': 136.86,\n",
       " 'EGP': 30.9,\n",
       " 'ERN': 15,\n",
       " 'ETB': 55.76,\n",
       " 'EUR': 0.947,\n",
       " 'FJD': 2.28,\n",
       " 'FKP': 0.824,\n",
       " 'FOK': 7.06,\n",
       " 'GBP': 0.824,\n",
       " 'GEL': 2.7,\n",
       " 'GGP': 0.824,\n",
       " 'GHS': 11.97,\n",
       " 'GIP': 0.824,\n",
       " 'GMD': 64.72,\n",
       " 'GNF': 8588.63,\n",
       " 'GTQ': 7.84,\n",
       " 'GYD': 209.05,\n",
       " 'HKD': 7.82,\n",
       " 'HNL': 24.68,\n",
       " 'HRK': 7.13,\n",
       " 'HTG': 133.33,\n",
       " 'HUF': 362.55,\n",
       " 'IDR': 15927.96,\n",
       " 'ILS': 4.07,\n",
       " 'IMP': 0.824,\n",
       " 'INR': 83.3,\n",
       " 'IQD': 1308.62,\n",
       " 'IRR': 41944.63,\n",
       " 'ISK': 139.61,\n",
       " 'JEP': 0.824,\n",
       " 'JMD': 155.37,\n",
       " 'JOD': 0.709,\n",
       " 'JPY': 149.82,\n",
       " 'KES': 150.68,\n",
       " 'KGS': 88.96,\n",
       " 'KHR': 4125.15,\n",
       " 'KID': 1.58,\n",
       " 'KMF': 465.71,\n",
       " 'KRW': 1355.56,\n",
       " 'KWD': 0.309,\n",
       " 'KYD': 0.833,\n",
       " 'KZT': 472.12,\n",
       " 'LAK': 20649.37,\n",
       " 'LBP': 15000,\n",
       " 'LKR': 326.77,\n",
       " 'LRD': 190.77,\n",
       " 'LSL': 18.84,\n",
       " 'LYD': 4.88,\n",
       " 'MAD': 10.27,\n",
       " 'MDL': 18.13,\n",
       " 'MGA': 4528.57,\n",
       " 'MKD': 58.32,\n",
       " 'MMK': 2100.14,\n",
       " 'MNT': 3476.21,\n",
       " 'MOP': 8.06,\n",
       " 'MRU': 38.76,\n",
       " 'MUR': 44.25,\n",
       " 'MVR': 15.44,\n",
       " 'MWK': 1162.79,\n",
       " 'MXN': 18.11,\n",
       " 'MYR': 4.78,\n",
       " 'MZN': 63.86,\n",
       " 'NAD': 18.84,\n",
       " 'NGN': 797.24,\n",
       " 'NIO': 36.58,\n",
       " 'NOK': 11.18,\n",
       " 'NPR': 133.28,\n",
       " 'NZD': 1.72,\n",
       " 'OMR': 0.384,\n",
       " 'PAB': 1,\n",
       " 'PEN': 3.86,\n",
       " 'PGK': 3.71,\n",
       " 'PHP': 56.96,\n",
       " 'PKR': 280.16,\n",
       " 'PLN': 4.22,\n",
       " 'PYG': 7390.86,\n",
       " 'QAR': 3.64,\n",
       " 'RON': 4.7,\n",
       " 'RSD': 110.77,\n",
       " 'RUB': 93.64,\n",
       " 'RWF': 1262.09,\n",
       " 'SAR': 3.75,\n",
       " 'SBD': 8.48,\n",
       " 'SCR': 13.52,\n",
       " 'SDG': 581.07,\n",
       " 'SEK': 11.16,\n",
       " 'SGD': 1.37,\n",
       " 'SHP': 0.824,\n",
       " 'SLE': 22.66,\n",
       " 'SLL': 22656.12,\n",
       " 'SOS': 570.88,\n",
       " 'SRD': 38.17,\n",
       " 'SSP': 1037.82,\n",
       " 'STN': 23.19,\n",
       " 'SYP': 12935.46,\n",
       " 'SZL': 18.84,\n",
       " 'THB': 36.19,\n",
       " 'TJS': 10.94,\n",
       " 'TMT': 3.5,\n",
       " 'TND': 3.17,\n",
       " 'TOP': 2.38,\n",
       " 'TRY': 28.22,\n",
       " 'TTD': 6.76,\n",
       " 'TVD': 1.58,\n",
       " 'TWD': 32.42,\n",
       " 'TZS': 2495.93,\n",
       " 'UAH': 36.44,\n",
       " 'UGX': 3770.78,\n",
       " 'UYU': 39.87,\n",
       " 'UZS': 12194.79,\n",
       " 'VES': 35.13,\n",
       " 'VND': 24566.45,\n",
       " 'VUV': 122.47,\n",
       " 'WST': 2.79,\n",
       " 'XAF': 620.95,\n",
       " 'XCD': 2.7,\n",
       " 'XDR': 0.763,\n",
       " 'XOF': 620.95,\n",
       " 'XPF': 112.96,\n",
       " 'YER': 250.11,\n",
       " 'ZAR': 18.85,\n",
       " 'ZMW': 21.9,\n",
       " 'ZWL': 5693.21}"
      ]
     },
     "execution_count": 13,
     "metadata": {},
     "output_type": "execute_result"
    }
   ],
   "source": [
    "weakest_rates = 0\n",
    "weakest_cou_code = \"\"\n",
    "\n",
    "rates = data[\"rates\"]\n",
    "\n",
    "rates"
   ]
  },
  {
   "cell_type": "code",
   "execution_count": 15,
   "id": "097b68f8",
   "metadata": {},
   "outputs": [
    {
     "data": {
      "text/plain": [
       "(1, 2)"
      ]
     },
     "execution_count": 15,
     "metadata": {},
     "output_type": "execute_result"
    }
   ],
   "source": [
    "a = 1,2,\n",
    "a"
   ]
  },
  {
   "cell_type": "code",
   "execution_count": 16,
   "id": "21260f13",
   "metadata": {},
   "outputs": [
    {
     "data": {
      "text/plain": [
       "1"
      ]
     },
     "execution_count": 16,
     "metadata": {},
     "output_type": "execute_result"
    }
   ],
   "source": [
    "a,b = 1,2,\n",
    "a"
   ]
  },
  {
   "cell_type": "code",
   "execution_count": 17,
   "id": "bfbb6586",
   "metadata": {},
   "outputs": [
    {
     "data": {
      "text/plain": [
       "2"
      ]
     },
     "execution_count": 17,
     "metadata": {},
     "output_type": "execute_result"
    }
   ],
   "source": [
    "b"
   ]
  },
  {
   "cell_type": "code",
   "execution_count": 14,
   "id": "78fefe98",
   "metadata": {},
   "outputs": [
    {
     "data": {
      "text/plain": [
       "dict_items([('USD', 1), ('AED', 3.67), ('AFN', 74.44), ('ALL', 100.15), ('AMD', 401.94), ('ANG', 1.79), ('AOA', 832.67), ('ARS', 350.01), ('AUD', 1.58), ('AWG', 1.79), ('AZN', 1.7), ('BAM', 1.85), ('BBD', 2), ('BDT', 110.23), ('BGN', 1.85), ('BHD', 0.376), ('BIF', 2828.14), ('BMD', 1), ('BND', 1.37), ('BOB', 6.92), ('BRL', 4.99), ('BSD', 1), ('BTN', 83.3), ('BWP', 13.79), ('BYN', 3.28), ('BZD', 2), ('CAD', 1.38), ('CDF', 2559.42), ('CHF', 0.902), ('CLP', 931.44), ('CNY', 7.32), ('COP', 4190.44), ('CRC', 531.06), ('CUP', 24), ('CVE', 104.38), ('CZK', 23.33), ('DJF', 177.72), ('DKK', 7.06), ('DOP', 56.82), ('DZD', 136.86), ('EGP', 30.9), ('ERN', 15), ('ETB', 55.76), ('EUR', 0.947), ('FJD', 2.28), ('FKP', 0.824), ('FOK', 7.06), ('GBP', 0.824), ('GEL', 2.7), ('GGP', 0.824), ('GHS', 11.97), ('GIP', 0.824), ('GMD', 64.72), ('GNF', 8588.63), ('GTQ', 7.84), ('GYD', 209.05), ('HKD', 7.82), ('HNL', 24.68), ('HRK', 7.13), ('HTG', 133.33), ('HUF', 362.55), ('IDR', 15927.96), ('ILS', 4.07), ('IMP', 0.824), ('INR', 83.3), ('IQD', 1308.62), ('IRR', 41944.63), ('ISK', 139.61), ('JEP', 0.824), ('JMD', 155.37), ('JOD', 0.709), ('JPY', 149.82), ('KES', 150.68), ('KGS', 88.96), ('KHR', 4125.15), ('KID', 1.58), ('KMF', 465.71), ('KRW', 1355.56), ('KWD', 0.309), ('KYD', 0.833), ('KZT', 472.12), ('LAK', 20649.37), ('LBP', 15000), ('LKR', 326.77), ('LRD', 190.77), ('LSL', 18.84), ('LYD', 4.88), ('MAD', 10.27), ('MDL', 18.13), ('MGA', 4528.57), ('MKD', 58.32), ('MMK', 2100.14), ('MNT', 3476.21), ('MOP', 8.06), ('MRU', 38.76), ('MUR', 44.25), ('MVR', 15.44), ('MWK', 1162.79), ('MXN', 18.11), ('MYR', 4.78), ('MZN', 63.86), ('NAD', 18.84), ('NGN', 797.24), ('NIO', 36.58), ('NOK', 11.18), ('NPR', 133.28), ('NZD', 1.72), ('OMR', 0.384), ('PAB', 1), ('PEN', 3.86), ('PGK', 3.71), ('PHP', 56.96), ('PKR', 280.16), ('PLN', 4.22), ('PYG', 7390.86), ('QAR', 3.64), ('RON', 4.7), ('RSD', 110.77), ('RUB', 93.64), ('RWF', 1262.09), ('SAR', 3.75), ('SBD', 8.48), ('SCR', 13.52), ('SDG', 581.07), ('SEK', 11.16), ('SGD', 1.37), ('SHP', 0.824), ('SLE', 22.66), ('SLL', 22656.12), ('SOS', 570.88), ('SRD', 38.17), ('SSP', 1037.82), ('STN', 23.19), ('SYP', 12935.46), ('SZL', 18.84), ('THB', 36.19), ('TJS', 10.94), ('TMT', 3.5), ('TND', 3.17), ('TOP', 2.38), ('TRY', 28.22), ('TTD', 6.76), ('TVD', 1.58), ('TWD', 32.42), ('TZS', 2495.93), ('UAH', 36.44), ('UGX', 3770.78), ('UYU', 39.87), ('UZS', 12194.79), ('VES', 35.13), ('VND', 24566.45), ('VUV', 122.47), ('WST', 2.79), ('XAF', 620.95), ('XCD', 2.7), ('XDR', 0.763), ('XOF', 620.95), ('XPF', 112.96), ('YER', 250.11), ('ZAR', 18.85), ('ZMW', 21.9), ('ZWL', 5693.21)])"
      ]
     },
     "execution_count": 14,
     "metadata": {},
     "output_type": "execute_result"
    }
   ],
   "source": [
    "rates.items()"
   ]
  },
  {
   "cell_type": "code",
   "execution_count": 18,
   "id": "d03fc7d6",
   "metadata": {},
   "outputs": [],
   "source": [
    "weakest_rates = 0\n",
    "weakest_cou_code = \"\"\n",
    "\n",
    "rates = data[\"rates\"]\n",
    "\n",
    "\n",
    "for count_code, exch  in rates.items():\n",
    "    \n",
    "    if weakest_rates < exch:\n",
    "    \n",
    "        weakest_rates = exch\n",
    "        weakest_cou_code = count_code"
   ]
  },
  {
   "cell_type": "code",
   "execution_count": 19,
   "id": "d10a15df",
   "metadata": {},
   "outputs": [
    {
     "data": {
      "text/plain": [
       "41944.63"
      ]
     },
     "execution_count": 19,
     "metadata": {},
     "output_type": "execute_result"
    }
   ],
   "source": [
    "weakest_rates"
   ]
  },
  {
   "cell_type": "code",
   "execution_count": 20,
   "id": "21f6a73d",
   "metadata": {},
   "outputs": [
    {
     "data": {
      "text/plain": [
       "'IRR'"
      ]
     },
     "execution_count": 20,
     "metadata": {},
     "output_type": "execute_result"
    }
   ],
   "source": [
    "weakest_cou_code"
   ]
  },
  {
   "cell_type": "code",
   "execution_count": 21,
   "id": "bcd92b35",
   "metadata": {},
   "outputs": [],
   "source": [
    "l = [250,290,2,780,521,222,349,]"
   ]
  },
  {
   "cell_type": "code",
   "execution_count": 22,
   "id": "5304d556",
   "metadata": {},
   "outputs": [
    {
     "data": {
      "text/plain": [
       "780"
      ]
     },
     "execution_count": 22,
     "metadata": {},
     "output_type": "execute_result"
    }
   ],
   "source": [
    "max(l)"
   ]
  },
  {
   "cell_type": "code",
   "execution_count": 24,
   "id": "ead9477e",
   "metadata": {},
   "outputs": [
    {
     "data": {
      "text/plain": [
       "'ZWL'"
      ]
     },
     "execution_count": 24,
     "metadata": {},
     "output_type": "execute_result"
    }
   ],
   "source": [
    "max(rates)"
   ]
  },
  {
   "cell_type": "code",
   "execution_count": 25,
   "id": "9102fa05",
   "metadata": {},
   "outputs": [
    {
     "data": {
      "text/plain": [
       "5693.21"
      ]
     },
     "execution_count": 25,
     "metadata": {},
     "output_type": "execute_result"
    }
   ],
   "source": [
    "rates[\"ZWL\"]"
   ]
  },
  {
   "cell_type": "code",
   "execution_count": 27,
   "id": "f15782f2",
   "metadata": {},
   "outputs": [
    {
     "data": {
      "text/plain": [
       "41944.63"
      ]
     },
     "execution_count": 27,
     "metadata": {},
     "output_type": "execute_result"
    }
   ],
   "source": [
    "max(rates.values())"
   ]
  },
  {
   "cell_type": "code",
   "execution_count": 29,
   "id": "61712829",
   "metadata": {},
   "outputs": [
    {
     "data": {
      "text/plain": [
       "'IRR'"
      ]
     },
     "execution_count": 29,
     "metadata": {},
     "output_type": "execute_result"
    }
   ],
   "source": [
    "max(rates, key = rates.get)"
   ]
  },
  {
   "cell_type": "code",
   "execution_count": 30,
   "id": "1029c649",
   "metadata": {},
   "outputs": [
    {
     "data": {
      "text/plain": [
       "41944.63"
      ]
     },
     "execution_count": 30,
     "metadata": {},
     "output_type": "execute_result"
    }
   ],
   "source": [
    "rates.get(\"IRR\")"
   ]
  },
  {
   "cell_type": "code",
   "execution_count": 32,
   "id": "b4a3cd0f",
   "metadata": {},
   "outputs": [],
   "source": [
    "rates.get(\"ABC\")"
   ]
  },
  {
   "cell_type": "code",
   "execution_count": 34,
   "id": "bb066e85",
   "metadata": {},
   "outputs": [
    {
     "data": {
      "text/plain": [
       "'That exchange rate is not available'"
      ]
     },
     "execution_count": 34,
     "metadata": {},
     "output_type": "execute_result"
    }
   ],
   "source": [
    "rates.get(\"ABC\",  \"That exchange rate is not available\")"
   ]
  },
  {
   "cell_type": "code",
   "execution_count": 35,
   "id": "f4d82ce0",
   "metadata": {},
   "outputs": [
    {
     "ename": "KeyError",
     "evalue": "'ABC'",
     "output_type": "error",
     "traceback": [
      "\u001b[1;31m---------------------------------------------------------------------------\u001b[0m",
      "\u001b[1;31mKeyError\u001b[0m                                  Traceback (most recent call last)",
      "Cell \u001b[1;32mIn[35], line 1\u001b[0m\n\u001b[1;32m----> 1\u001b[0m \u001b[43mrates\u001b[49m\u001b[43m[\u001b[49m\u001b[38;5;124;43m\"\u001b[39;49m\u001b[38;5;124;43mABC\u001b[39;49m\u001b[38;5;124;43m\"\u001b[39;49m\u001b[43m]\u001b[49m\n",
      "\u001b[1;31mKeyError\u001b[0m: 'ABC'"
     ]
    }
   ],
   "source": [
    "rates[\"ABC\"]"
   ]
  },
  {
   "cell_type": "code",
   "execution_count": 36,
   "id": "bfa8bbc6",
   "metadata": {},
   "outputs": [],
   "source": [
    "func = sum"
   ]
  },
  {
   "cell_type": "code",
   "execution_count": 37,
   "id": "836215c3",
   "metadata": {},
   "outputs": [
    {
     "data": {
      "text/plain": [
       "15"
      ]
     },
     "execution_count": 37,
     "metadata": {},
     "output_type": "execute_result"
    }
   ],
   "source": [
    "func([1,2,3,4,5])"
   ]
  },
  {
   "cell_type": "code",
   "execution_count": 38,
   "id": "4501df8a",
   "metadata": {},
   "outputs": [],
   "source": [
    "value = 0\n",
    "k = \"\"\n",
    "\n",
    "for key in rates:\n",
    "    if rates[key] > value:\n",
    "        value = rates[key]\n",
    "        k = key\n",
    "    "
   ]
  },
  {
   "cell_type": "code",
   "execution_count": 39,
   "id": "39dc04ef",
   "metadata": {},
   "outputs": [
    {
     "data": {
      "text/plain": [
       "'IRR'"
      ]
     },
     "execution_count": 39,
     "metadata": {},
     "output_type": "execute_result"
    }
   ],
   "source": [
    "k"
   ]
  },
  {
   "cell_type": "code",
   "execution_count": null,
   "id": "e92b6c33",
   "metadata": {},
   "outputs": [],
   "source": []
  },
  {
   "cell_type": "code",
   "execution_count": 40,
   "id": "6dcbe621",
   "metadata": {},
   "outputs": [],
   "source": [
    "def addition(a,b): # a and b are parameters\n",
    "    add = a+b\n",
    "    return add"
   ]
  },
  {
   "cell_type": "code",
   "execution_count": 42,
   "id": "1dce87df",
   "metadata": {},
   "outputs": [
    {
     "data": {
      "text/plain": [
       "70"
      ]
     },
     "execution_count": 42,
     "metadata": {},
     "output_type": "execute_result"
    }
   ],
   "source": [
    "addition(59,11) # 59 and 11 arguments -> Positional Argument(s)"
   ]
  },
  {
   "cell_type": "markdown",
   "id": "1349da65",
   "metadata": {},
   "source": [
    "# Argument(s)\n",
    "\n",
    "* Positional Argument(s)\n",
    "* Named Argument(s) or keyword argument(s)"
   ]
  },
  {
   "cell_type": "code",
   "execution_count": 43,
   "id": "40f9cc38",
   "metadata": {},
   "outputs": [],
   "source": [
    "def substraction(a,b): # a and b are parameters  -> Headers\n",
    "    sub = a-b # -----> Body\n",
    "    return sub # Return Statement"
   ]
  },
  {
   "cell_type": "code",
   "execution_count": 44,
   "id": "06673772",
   "metadata": {},
   "outputs": [
    {
     "data": {
      "text/plain": [
       "48"
      ]
     },
     "execution_count": 44,
     "metadata": {},
     "output_type": "execute_result"
    }
   ],
   "source": [
    "substraction(59,11)"
   ]
  },
  {
   "cell_type": "code",
   "execution_count": 45,
   "id": "210fd8a8",
   "metadata": {},
   "outputs": [
    {
     "data": {
      "text/plain": [
       "-48"
      ]
     },
     "execution_count": 45,
     "metadata": {},
     "output_type": "execute_result"
    }
   ],
   "source": [
    "substraction(11,59)"
   ]
  },
  {
   "cell_type": "code",
   "execution_count": 46,
   "id": "3addf842",
   "metadata": {},
   "outputs": [
    {
     "data": {
      "text/plain": [
       "48"
      ]
     },
     "execution_count": 46,
     "metadata": {},
     "output_type": "execute_result"
    }
   ],
   "source": [
    "substraction(a = 59, b = 11)"
   ]
  },
  {
   "cell_type": "code",
   "execution_count": 47,
   "id": "73cf39d1",
   "metadata": {},
   "outputs": [
    {
     "data": {
      "text/plain": [
       "48"
      ]
     },
     "execution_count": 47,
     "metadata": {},
     "output_type": "execute_result"
    }
   ],
   "source": [
    "substraction(b = 11 , a = 59 )"
   ]
  },
  {
   "cell_type": "code",
   "execution_count": 48,
   "id": "0e54d99e",
   "metadata": {},
   "outputs": [
    {
     "data": {
      "text/plain": [
       "{'a': 2, 'b': 5}"
      ]
     },
     "execution_count": 48,
     "metadata": {},
     "output_type": "execute_result"
    }
   ],
   "source": [
    "dict(a=2, b= 5)"
   ]
  },
  {
   "cell_type": "code",
   "execution_count": null,
   "id": "06208781",
   "metadata": {},
   "outputs": [],
   "source": [
    "# default argument"
   ]
  },
  {
   "cell_type": "code",
   "execution_count": 49,
   "id": "5c06d920",
   "metadata": {},
   "outputs": [],
   "source": [
    "def tax_cal(salary, tax_rate):\n",
    "    tax_value = salary*tax_rate\n",
    "    return tax_value"
   ]
  },
  {
   "cell_type": "code",
   "execution_count": 50,
   "id": "12aa10b3",
   "metadata": {},
   "outputs": [
    {
     "data": {
      "text/plain": [
       "5000.0"
      ]
     },
     "execution_count": 50,
     "metadata": {},
     "output_type": "execute_result"
    }
   ],
   "source": [
    "tax_cal(100000, 0.05)"
   ]
  },
  {
   "cell_type": "code",
   "execution_count": 51,
   "id": "dffdbfe0",
   "metadata": {},
   "outputs": [],
   "source": [
    "def tax_cal(salary, tax_rate = 0.05): # default argument\n",
    "    tax_value = salary*tax_rate\n",
    "    return tax_value"
   ]
  },
  {
   "cell_type": "code",
   "execution_count": 52,
   "id": "a00e9bb6",
   "metadata": {},
   "outputs": [
    {
     "ename": "TypeError",
     "evalue": "addition() missing 1 required positional argument: 'b'",
     "output_type": "error",
     "traceback": [
      "\u001b[1;31m---------------------------------------------------------------------------\u001b[0m",
      "\u001b[1;31mTypeError\u001b[0m                                 Traceback (most recent call last)",
      "Cell \u001b[1;32mIn[52], line 1\u001b[0m\n\u001b[1;32m----> 1\u001b[0m \u001b[43maddition\u001b[49m\u001b[43m(\u001b[49m\u001b[38;5;241;43m11\u001b[39;49m\u001b[43m)\u001b[49m\n",
      "\u001b[1;31mTypeError\u001b[0m: addition() missing 1 required positional argument: 'b'"
     ]
    }
   ],
   "source": [
    "addition(11)"
   ]
  },
  {
   "cell_type": "code",
   "execution_count": 53,
   "id": "9075defb",
   "metadata": {},
   "outputs": [
    {
     "data": {
      "text/plain": [
       "5000.0"
      ]
     },
     "execution_count": 53,
     "metadata": {},
     "output_type": "execute_result"
    }
   ],
   "source": [
    "tax_cal(100000)"
   ]
  },
  {
   "cell_type": "code",
   "execution_count": 55,
   "id": "1dabf80e",
   "metadata": {},
   "outputs": [
    {
     "data": {
      "text/plain": [
       "6000.0"
      ]
     },
     "execution_count": 55,
     "metadata": {},
     "output_type": "execute_result"
    }
   ],
   "source": [
    "tax_cal(100000,0.06)"
   ]
  },
  {
   "cell_type": "code",
   "execution_count": null,
   "id": "7d0aeef6",
   "metadata": {},
   "outputs": [],
   "source": [
    "# Multiple return statment\n",
    "\n",
    "\n",
    "def add_subs(a, b):\n",
    "    add = a + b\n",
    "    sub = a-b\n",
    "    \n",
    "    return "
   ]
  },
  {
   "cell_type": "code",
   "execution_count": 56,
   "id": "ddfd1348",
   "metadata": {},
   "outputs": [],
   "source": [
    "def add_subs(a, b, addition = True):\n",
    "    add = a + b\n",
    "    sub = a-b\n",
    "    \n",
    "    if addition:\n",
    "        return add\n",
    "    else:\n",
    "        return sub"
   ]
  },
  {
   "cell_type": "code",
   "execution_count": 57,
   "id": "6c4e6366",
   "metadata": {},
   "outputs": [
    {
     "data": {
      "text/plain": [
       "80"
      ]
     },
     "execution_count": 57,
     "metadata": {},
     "output_type": "execute_result"
    }
   ],
   "source": [
    "add_subs(59,21)"
   ]
  },
  {
   "cell_type": "code",
   "execution_count": 58,
   "id": "78581204",
   "metadata": {},
   "outputs": [
    {
     "data": {
      "text/plain": [
       "38"
      ]
     },
     "execution_count": 58,
     "metadata": {},
     "output_type": "execute_result"
    }
   ],
   "source": [
    "add_subs(59,21, False)"
   ]
  },
  {
   "cell_type": "code",
   "execution_count": 59,
   "id": "b0abc458",
   "metadata": {},
   "outputs": [
    {
     "data": {
      "text/plain": [
       "38"
      ]
     },
     "execution_count": 59,
     "metadata": {},
     "output_type": "execute_result"
    }
   ],
   "source": [
    "add_subs(addition = False, a= 59,b = 21, )"
   ]
  },
  {
   "cell_type": "code",
   "execution_count": 60,
   "id": "432d79fe",
   "metadata": {},
   "outputs": [
    {
     "data": {
      "text/plain": [
       "38"
      ]
     },
     "execution_count": 60,
     "metadata": {},
     "output_type": "execute_result"
    }
   ],
   "source": [
    "add_subs(59, addition = False, b = 21 )"
   ]
  },
  {
   "cell_type": "code",
   "execution_count": 61,
   "id": "7406bb76",
   "metadata": {},
   "outputs": [
    {
     "ename": "SyntaxError",
     "evalue": "positional argument follows keyword argument (683272963.py, line 1)",
     "output_type": "error",
     "traceback": [
      "\u001b[1;36m  Cell \u001b[1;32mIn[61], line 1\u001b[1;36m\u001b[0m\n\u001b[1;33m    add_subs(addition = False, b = 21, 59 )\u001b[0m\n\u001b[1;37m                                          ^\u001b[0m\n\u001b[1;31mSyntaxError\u001b[0m\u001b[1;31m:\u001b[0m positional argument follows keyword argument\n"
     ]
    }
   ],
   "source": [
    "add_subs(addition = False, b = 21, 59 )"
   ]
  },
  {
   "cell_type": "code",
   "execution_count": 63,
   "id": "5571d992",
   "metadata": {},
   "outputs": [],
   "source": [
    "# Return Multiple values\n",
    "\n",
    "def add_subs(a, b, addition = True):\n",
    "    add = a + b\n",
    "    sub = a-b\n",
    "    \n",
    "    return add,sub"
   ]
  },
  {
   "cell_type": "code",
   "execution_count": 64,
   "id": "f02c7241",
   "metadata": {},
   "outputs": [
    {
     "data": {
      "text/plain": [
       "(70, 48)"
      ]
     },
     "execution_count": 64,
     "metadata": {},
     "output_type": "execute_result"
    }
   ],
   "source": [
    "add_subs(59,11)"
   ]
  },
  {
   "cell_type": "code",
   "execution_count": 65,
   "id": "5c22e5f6",
   "metadata": {},
   "outputs": [],
   "source": [
    "add, sub = add_subs(59,11)"
   ]
  },
  {
   "cell_type": "code",
   "execution_count": 66,
   "id": "58ed23b1",
   "metadata": {},
   "outputs": [
    {
     "data": {
      "text/plain": [
       "70"
      ]
     },
     "execution_count": 66,
     "metadata": {},
     "output_type": "execute_result"
    }
   ],
   "source": [
    "add"
   ]
  },
  {
   "cell_type": "code",
   "execution_count": 67,
   "id": "9f6360e1",
   "metadata": {},
   "outputs": [],
   "source": [
    "def taxation(salary):\n",
    "    tax_rate = 0.05\n",
    "    return salary*tax_rate"
   ]
  },
  {
   "cell_type": "code",
   "execution_count": 68,
   "id": "18b8a1bb",
   "metadata": {},
   "outputs": [
    {
     "data": {
      "text/plain": [
       "10000.0"
      ]
     },
     "execution_count": 68,
     "metadata": {},
     "output_type": "execute_result"
    }
   ],
   "source": [
    "taxation(200000)"
   ]
  },
  {
   "cell_type": "code",
   "execution_count": 69,
   "id": "16c2489e",
   "metadata": {},
   "outputs": [
    {
     "ename": "NameError",
     "evalue": "name 'tax_rate' is not defined",
     "output_type": "error",
     "traceback": [
      "\u001b[1;31m---------------------------------------------------------------------------\u001b[0m",
      "\u001b[1;31mNameError\u001b[0m                                 Traceback (most recent call last)",
      "Cell \u001b[1;32mIn[69], line 1\u001b[0m\n\u001b[1;32m----> 1\u001b[0m \u001b[38;5;28mprint\u001b[39m(\u001b[43mtax_rate\u001b[49m)\n",
      "\u001b[1;31mNameError\u001b[0m: name 'tax_rate' is not defined"
     ]
    }
   ],
   "source": [
    "print(tax_rate)"
   ]
  },
  {
   "cell_type": "markdown",
   "id": "177e44d1",
   "metadata": {},
   "source": [
    "# Scope\n",
    "\n",
    "* Any variable is defined in function, is in a local scope\n",
    "\n",
    "* Any variable is defined in main program, is in a global scope\n"
   ]
  },
  {
   "cell_type": "code",
   "execution_count": null,
   "id": "e543ff3a",
   "metadata": {},
   "outputs": [],
   "source": [
    "num = 29"
   ]
  },
  {
   "cell_type": "code",
   "execution_count": null,
   "id": "4a53c89a",
   "metadata": {},
   "outputs": [],
   "source": [
    "num = 25"
   ]
  },
  {
   "cell_type": "code",
   "execution_count": 71,
   "id": "bb69cfec",
   "metadata": {},
   "outputs": [],
   "source": [
    "tax_rate = 0.06"
   ]
  },
  {
   "cell_type": "code",
   "execution_count": 72,
   "id": "2b8aaa5e",
   "metadata": {},
   "outputs": [
    {
     "data": {
      "text/plain": [
       "10000.0"
      ]
     },
     "execution_count": 72,
     "metadata": {},
     "output_type": "execute_result"
    }
   ],
   "source": [
    "taxation(200000)"
   ]
  },
  {
   "cell_type": "markdown",
   "id": "f261d29c",
   "metadata": {},
   "source": [
    "# Lambda Function "
   ]
  },
  {
   "cell_type": "markdown",
   "id": "5187ae01",
   "metadata": {},
   "source": [
    "* map\n",
    "* filter"
   ]
  },
  {
   "cell_type": "code",
   "execution_count": 73,
   "id": "1881ee8e",
   "metadata": {},
   "outputs": [
    {
     "data": {
      "text/plain": [
       "[250, 290, 2, 780, 521, 222, 349]"
      ]
     },
     "execution_count": 73,
     "metadata": {},
     "output_type": "execute_result"
    }
   ],
   "source": [
    "l"
   ]
  },
  {
   "cell_type": "code",
   "execution_count": 74,
   "id": "80277e39",
   "metadata": {},
   "outputs": [],
   "source": [
    "l_double = []\n",
    "\n",
    "\n",
    "\n",
    "for i in l:\n",
    "    ans = i*2\n",
    "    l_double.append(ans)"
   ]
  },
  {
   "cell_type": "code",
   "execution_count": 75,
   "id": "9decfb34",
   "metadata": {},
   "outputs": [
    {
     "data": {
      "text/plain": [
       "[500, 580, 4, 1560, 1042, 444, 698]"
      ]
     },
     "execution_count": 75,
     "metadata": {},
     "output_type": "execute_result"
    }
   ],
   "source": [
    "l_double"
   ]
  },
  {
   "cell_type": "code",
   "execution_count": 76,
   "id": "5c3f50f0",
   "metadata": {},
   "outputs": [],
   "source": [
    "alpha = [\"ABC\", \"EFGH\", \"IJKLM\", \"N\", \"OPQ\"]"
   ]
  },
  {
   "cell_type": "code",
   "execution_count": 77,
   "id": "422b1343",
   "metadata": {},
   "outputs": [
    {
     "data": {
      "text/plain": [
       "5"
      ]
     },
     "execution_count": 77,
     "metadata": {},
     "output_type": "execute_result"
    }
   ],
   "source": [
    "len(alpha)"
   ]
  },
  {
   "cell_type": "code",
   "execution_count": 78,
   "id": "b1ef4a64",
   "metadata": {},
   "outputs": [],
   "source": [
    "len_ele = []\n",
    "\n",
    "\n",
    "for i in alpha:\n",
    "    length = len(i)\n",
    "    len_ele.append(length)"
   ]
  },
  {
   "cell_type": "code",
   "execution_count": 79,
   "id": "e25c6dbe",
   "metadata": {},
   "outputs": [
    {
     "data": {
      "text/plain": [
       "[3, 4, 5, 1, 3]"
      ]
     },
     "execution_count": 79,
     "metadata": {},
     "output_type": "execute_result"
    }
   ],
   "source": [
    "len_ele "
   ]
  },
  {
   "cell_type": "code",
   "execution_count": 80,
   "id": "f2b6ba0b",
   "metadata": {},
   "outputs": [
    {
     "data": {
      "text/plain": [
       "<map at 0x1e91d3a7400>"
      ]
     },
     "execution_count": 80,
     "metadata": {},
     "output_type": "execute_result"
    }
   ],
   "source": [
    "map(len, alpha)"
   ]
  },
  {
   "cell_type": "code",
   "execution_count": 81,
   "id": "fd60fe1a",
   "metadata": {},
   "outputs": [
    {
     "data": {
      "text/plain": [
       "[3, 4, 5, 1, 3]"
      ]
     },
     "execution_count": 81,
     "metadata": {},
     "output_type": "execute_result"
    }
   ],
   "source": [
    "list(map(len, alpha))"
   ]
  },
  {
   "cell_type": "code",
   "execution_count": 83,
   "id": "37b77196",
   "metadata": {},
   "outputs": [],
   "source": [
    "def mul(i):\n",
    "    return i*2"
   ]
  },
  {
   "cell_type": "code",
   "execution_count": 84,
   "id": "f61a3e27",
   "metadata": {},
   "outputs": [
    {
     "data": {
      "text/plain": [
       "[500, 580, 4, 1560, 1042, 444, 698]"
      ]
     },
     "execution_count": 84,
     "metadata": {},
     "output_type": "execute_result"
    }
   ],
   "source": [
    "list(map(mul, l))"
   ]
  },
  {
   "cell_type": "code",
   "execution_count": 85,
   "id": "6a8fb678",
   "metadata": {},
   "outputs": [
    {
     "data": {
      "text/plain": [
       "[500, 580, 4, 1560, 1042, 444, 698]"
      ]
     },
     "execution_count": 85,
     "metadata": {},
     "output_type": "execute_result"
    }
   ],
   "source": [
    "list(map(lambda i: i*2 , l))"
   ]
  },
  {
   "cell_type": "code",
   "execution_count": 87,
   "id": "55a271d6",
   "metadata": {},
   "outputs": [
    {
     "data": {
      "text/plain": [
       "[250, 290, 2, 780, 521, 222, 349]"
      ]
     },
     "execution_count": 87,
     "metadata": {},
     "output_type": "execute_result"
    }
   ],
   "source": [
    "l"
   ]
  },
  {
   "cell_type": "code",
   "execution_count": 88,
   "id": "432138d3",
   "metadata": {},
   "outputs": [
    {
     "data": {
      "text/plain": [
       "[780, 521, 349]"
      ]
     },
     "execution_count": 88,
     "metadata": {},
     "output_type": "execute_result"
    }
   ],
   "source": [
    "list(filter(lambda i: i>300 , l))"
   ]
  },
  {
   "cell_type": "code",
   "execution_count": null,
   "id": "7d2eab54",
   "metadata": {},
   "outputs": [],
   "source": []
  },
  {
   "cell_type": "code",
   "execution_count": null,
   "id": "81b535f5",
   "metadata": {},
   "outputs": [],
   "source": []
  },
  {
   "cell_type": "code",
   "execution_count": null,
   "id": "39bd7396",
   "metadata": {},
   "outputs": [],
   "source": []
  },
  {
   "cell_type": "code",
   "execution_count": null,
   "id": "48d6c344",
   "metadata": {},
   "outputs": [],
   "source": []
  },
  {
   "cell_type": "code",
   "execution_count": null,
   "id": "22bd8eb2",
   "metadata": {},
   "outputs": [],
   "source": []
  }
 ],
 "metadata": {
  "kernelspec": {
   "display_name": "Python 3 (ipykernel)",
   "language": "python",
   "name": "python3"
  },
  "language_info": {
   "codemirror_mode": {
    "name": "ipython",
    "version": 3
   },
   "file_extension": ".py",
   "mimetype": "text/x-python",
   "name": "python",
   "nbconvert_exporter": "python",
   "pygments_lexer": "ipython3",
   "version": "3.11.3"
  }
 },
 "nbformat": 4,
 "nbformat_minor": 5
}
