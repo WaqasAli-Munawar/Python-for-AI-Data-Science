{
 "cells": [
  {
   "cell_type": "code",
   "execution_count": 1,
   "id": "cad36269",
   "metadata": {},
   "outputs": [],
   "source": [
    "employee1 = [\"Asad\", \"Data Scientist\",4000]"
   ]
  },
  {
   "cell_type": "code",
   "execution_count": 2,
   "id": "28630cc6",
   "metadata": {},
   "outputs": [
    {
     "data": {
      "text/plain": [
       "4000"
      ]
     },
     "execution_count": 2,
     "metadata": {},
     "output_type": "execute_result"
    }
   ],
   "source": [
    "employee1[-1]"
   ]
  },
  {
   "cell_type": "code",
   "execution_count": 3,
   "id": "79315a2a",
   "metadata": {},
   "outputs": [],
   "source": [
    "employee2 = [\"Iqra\", \"Data Scientist\",3800]"
   ]
  },
  {
   "cell_type": "code",
   "execution_count": 4,
   "id": "d4ec2b6d",
   "metadata": {},
   "outputs": [
    {
     "data": {
      "text/plain": [
       "list"
      ]
     },
     "execution_count": 4,
     "metadata": {},
     "output_type": "execute_result"
    }
   ],
   "source": [
    "type(employee1)"
   ]
  },
  {
   "cell_type": "code",
   "execution_count": 5,
   "id": "f2bb6d8e",
   "metadata": {},
   "outputs": [
    {
     "data": {
      "text/plain": [
       "['__add__',\n",
       " '__class__',\n",
       " '__class_getitem__',\n",
       " '__contains__',\n",
       " '__delattr__',\n",
       " '__delitem__',\n",
       " '__dir__',\n",
       " '__doc__',\n",
       " '__eq__',\n",
       " '__format__',\n",
       " '__ge__',\n",
       " '__getattribute__',\n",
       " '__getitem__',\n",
       " '__getstate__',\n",
       " '__gt__',\n",
       " '__hash__',\n",
       " '__iadd__',\n",
       " '__imul__',\n",
       " '__init__',\n",
       " '__init_subclass__',\n",
       " '__iter__',\n",
       " '__le__',\n",
       " '__len__',\n",
       " '__lt__',\n",
       " '__mul__',\n",
       " '__ne__',\n",
       " '__new__',\n",
       " '__reduce__',\n",
       " '__reduce_ex__',\n",
       " '__repr__',\n",
       " '__reversed__',\n",
       " '__rmul__',\n",
       " '__setattr__',\n",
       " '__setitem__',\n",
       " '__sizeof__',\n",
       " '__str__',\n",
       " '__subclasshook__',\n",
       " 'append',\n",
       " 'clear',\n",
       " 'copy',\n",
       " 'count',\n",
       " 'extend',\n",
       " 'index',\n",
       " 'insert',\n",
       " 'pop',\n",
       " 'remove',\n",
       " 'reverse',\n",
       " 'sort']"
      ]
     },
     "execution_count": 5,
     "metadata": {},
     "output_type": "execute_result"
    }
   ],
   "source": [
    "dir(employee1)"
   ]
  },
  {
   "cell_type": "code",
   "execution_count": null,
   "id": "adb5a260",
   "metadata": {},
   "outputs": [],
   "source": [
    "# print = \"Display\"\n",
    "\n",
    "\n",
    "# del print"
   ]
  },
  {
   "cell_type": "code",
   "execution_count": null,
   "id": "3c4126aa",
   "metadata": {},
   "outputs": [],
   "source": [
    "# del = \"Display\""
   ]
  },
  {
   "cell_type": "code",
   "execution_count": null,
   "id": "1b94e119",
   "metadata": {},
   "outputs": [],
   "source": [
    "# None"
   ]
  },
  {
   "cell_type": "code",
   "execution_count": null,
   "id": "c82e4471",
   "metadata": {},
   "outputs": [],
   "source": [
    "# data = None"
   ]
  },
  {
   "cell_type": "code",
   "execution_count": 6,
   "id": "81017e3e",
   "metadata": {},
   "outputs": [],
   "source": [
    "# __builtins__.del(del)"
   ]
  },
  {
   "cell_type": "code",
   "execution_count": 7,
   "id": "d3962c9c",
   "metadata": {},
   "outputs": [
    {
     "data": {
      "text/plain": [
       "['__add__',\n",
       " '__class__',\n",
       " '__class_getitem__',\n",
       " '__contains__',\n",
       " '__delattr__',\n",
       " '__delitem__',\n",
       " '__dir__',\n",
       " '__doc__',\n",
       " '__eq__',\n",
       " '__format__',\n",
       " '__ge__',\n",
       " '__getattribute__',\n",
       " '__getitem__',\n",
       " '__getstate__',\n",
       " '__gt__',\n",
       " '__hash__',\n",
       " '__iadd__',\n",
       " '__imul__',\n",
       " '__init__',\n",
       " '__init_subclass__',\n",
       " '__iter__',\n",
       " '__le__',\n",
       " '__len__',\n",
       " '__lt__',\n",
       " '__mul__',\n",
       " '__ne__',\n",
       " '__new__',\n",
       " '__reduce__',\n",
       " '__reduce_ex__',\n",
       " '__repr__',\n",
       " '__reversed__',\n",
       " '__rmul__',\n",
       " '__setattr__',\n",
       " '__setitem__',\n",
       " '__sizeof__',\n",
       " '__str__',\n",
       " '__subclasshook__',\n",
       " 'append',\n",
       " 'clear',\n",
       " 'copy',\n",
       " 'count',\n",
       " 'extend',\n",
       " 'index',\n",
       " 'insert',\n",
       " 'pop',\n",
       " 'remove',\n",
       " 'reverse',\n",
       " 'sort']"
      ]
     },
     "execution_count": 7,
     "metadata": {},
     "output_type": "execute_result"
    }
   ],
   "source": [
    "dir(list)"
   ]
  },
  {
   "cell_type": "code",
   "execution_count": 8,
   "id": "c8dcc91a",
   "metadata": {},
   "outputs": [
    {
     "data": {
      "text/plain": [
       "['__add__',\n",
       " '__class__',\n",
       " '__contains__',\n",
       " '__delattr__',\n",
       " '__dir__',\n",
       " '__doc__',\n",
       " '__eq__',\n",
       " '__format__',\n",
       " '__ge__',\n",
       " '__getattribute__',\n",
       " '__getitem__',\n",
       " '__getnewargs__',\n",
       " '__getstate__',\n",
       " '__gt__',\n",
       " '__hash__',\n",
       " '__init__',\n",
       " '__init_subclass__',\n",
       " '__iter__',\n",
       " '__le__',\n",
       " '__len__',\n",
       " '__lt__',\n",
       " '__mod__',\n",
       " '__mul__',\n",
       " '__ne__',\n",
       " '__new__',\n",
       " '__reduce__',\n",
       " '__reduce_ex__',\n",
       " '__repr__',\n",
       " '__rmod__',\n",
       " '__rmul__',\n",
       " '__setattr__',\n",
       " '__sizeof__',\n",
       " '__str__',\n",
       " '__subclasshook__',\n",
       " 'capitalize',\n",
       " 'casefold',\n",
       " 'center',\n",
       " 'count',\n",
       " 'encode',\n",
       " 'endswith',\n",
       " 'expandtabs',\n",
       " 'find',\n",
       " 'format',\n",
       " 'format_map',\n",
       " 'index',\n",
       " 'isalnum',\n",
       " 'isalpha',\n",
       " 'isascii',\n",
       " 'isdecimal',\n",
       " 'isdigit',\n",
       " 'isidentifier',\n",
       " 'islower',\n",
       " 'isnumeric',\n",
       " 'isprintable',\n",
       " 'isspace',\n",
       " 'istitle',\n",
       " 'isupper',\n",
       " 'join',\n",
       " 'ljust',\n",
       " 'lower',\n",
       " 'lstrip',\n",
       " 'maketrans',\n",
       " 'partition',\n",
       " 'removeprefix',\n",
       " 'removesuffix',\n",
       " 'replace',\n",
       " 'rfind',\n",
       " 'rindex',\n",
       " 'rjust',\n",
       " 'rpartition',\n",
       " 'rsplit',\n",
       " 'rstrip',\n",
       " 'split',\n",
       " 'splitlines',\n",
       " 'startswith',\n",
       " 'strip',\n",
       " 'swapcase',\n",
       " 'title',\n",
       " 'translate',\n",
       " 'upper',\n",
       " 'zfill']"
      ]
     },
     "execution_count": 8,
     "metadata": {},
     "output_type": "execute_result"
    }
   ],
   "source": [
    "dir(str)"
   ]
  },
  {
   "cell_type": "code",
   "execution_count": 9,
   "id": "e00075ef",
   "metadata": {},
   "outputs": [],
   "source": [
    "employee1.append(\"0.5%\")"
   ]
  },
  {
   "cell_type": "code",
   "execution_count": 10,
   "id": "5871da85",
   "metadata": {},
   "outputs": [],
   "source": [
    "employee1.append(\"0.35%\")"
   ]
  },
  {
   "cell_type": "code",
   "execution_count": 11,
   "id": "a8df0de8",
   "metadata": {},
   "outputs": [],
   "source": [
    "employee2.append(\"0.35%\")"
   ]
  },
  {
   "cell_type": "code",
   "execution_count": 12,
   "id": "8c82e650",
   "metadata": {},
   "outputs": [
    {
     "data": {
      "text/plain": [
       "['Asad', 'Data Scientist', 4000, '0.5%', '0.35%']"
      ]
     },
     "execution_count": 12,
     "metadata": {},
     "output_type": "execute_result"
    }
   ],
   "source": [
    "employee1"
   ]
  },
  {
   "cell_type": "code",
   "execution_count": 13,
   "id": "0e4336f0",
   "metadata": {},
   "outputs": [
    {
     "data": {
      "text/plain": [
       "['Iqra', 'Data Scientist', 3800, '0.35%']"
      ]
     },
     "execution_count": 13,
     "metadata": {},
     "output_type": "execute_result"
    }
   ],
   "source": [
    "employee2"
   ]
  },
  {
   "cell_type": "code",
   "execution_count": 14,
   "id": "f0c213da",
   "metadata": {},
   "outputs": [],
   "source": [
    "employee1.remove(\"0.35%\")"
   ]
  },
  {
   "cell_type": "code",
   "execution_count": 15,
   "id": "d2699529",
   "metadata": {},
   "outputs": [
    {
     "data": {
      "text/plain": [
       "['Asad', 'Data Scientist', 4000, '0.5%']"
      ]
     },
     "execution_count": 15,
     "metadata": {},
     "output_type": "execute_result"
    }
   ],
   "source": [
    "employee1"
   ]
  },
  {
   "cell_type": "code",
   "execution_count": 16,
   "id": "ffdb49a7",
   "metadata": {},
   "outputs": [
    {
     "ename": "ValueError",
     "evalue": "list.remove(x): x not in list",
     "output_type": "error",
     "traceback": [
      "\u001b[1;31m---------------------------------------------------------------------------\u001b[0m",
      "\u001b[1;31mValueError\u001b[0m                                Traceback (most recent call last)",
      "Cell \u001b[1;32mIn[16], line 1\u001b[0m\n\u001b[1;32m----> 1\u001b[0m \u001b[43memployee1\u001b[49m\u001b[38;5;241;43m.\u001b[39;49m\u001b[43mremove\u001b[49m\u001b[43m(\u001b[49m\u001b[38;5;124;43m\"\u001b[39;49m\u001b[38;5;124;43m0.35\u001b[39;49m\u001b[38;5;124;43m%\u001b[39;49m\u001b[38;5;124;43m\"\u001b[39;49m\u001b[43m)\u001b[49m\n",
      "\u001b[1;31mValueError\u001b[0m: list.remove(x): x not in list"
     ]
    }
   ],
   "source": [
    "employee1.remove(\"0.35%\")"
   ]
  },
  {
   "cell_type": "code",
   "execution_count": 17,
   "id": "668450bf",
   "metadata": {},
   "outputs": [],
   "source": [
    "employee1.append(\"0.35%\")"
   ]
  },
  {
   "cell_type": "code",
   "execution_count": 18,
   "id": "074df49e",
   "metadata": {},
   "outputs": [
    {
     "data": {
      "text/plain": [
       "['Asad', 'Data Scientist', 4000, '0.5%', '0.35%']"
      ]
     },
     "execution_count": 18,
     "metadata": {},
     "output_type": "execute_result"
    }
   ],
   "source": [
    "employee1"
   ]
  },
  {
   "cell_type": "code",
   "execution_count": 19,
   "id": "9d7a60e8",
   "metadata": {},
   "outputs": [],
   "source": [
    "del employee1[4] # del \"0.35%\""
   ]
  },
  {
   "cell_type": "code",
   "execution_count": 20,
   "id": "91d24c6a",
   "metadata": {},
   "outputs": [
    {
     "data": {
      "text/plain": [
       "['Asad', 'Data Scientist', 4000, '0.5%']"
      ]
     },
     "execution_count": 20,
     "metadata": {},
     "output_type": "execute_result"
    }
   ],
   "source": [
    "employee1"
   ]
  },
  {
   "cell_type": "code",
   "execution_count": 21,
   "id": "87dee9ce",
   "metadata": {},
   "outputs": [
    {
     "data": {
      "text/plain": [
       "'Data Scientist'"
      ]
     },
     "execution_count": 21,
     "metadata": {},
     "output_type": "execute_result"
    }
   ],
   "source": [
    "employee1[1] # indexing"
   ]
  },
  {
   "cell_type": "code",
   "execution_count": 22,
   "id": "b52f9bab",
   "metadata": {},
   "outputs": [
    {
     "ename": "IndexError",
     "evalue": "list assignment index out of range",
     "output_type": "error",
     "traceback": [
      "\u001b[1;31m---------------------------------------------------------------------------\u001b[0m",
      "\u001b[1;31mIndexError\u001b[0m                                Traceback (most recent call last)",
      "Cell \u001b[1;32mIn[22], line 1\u001b[0m\n\u001b[1;32m----> 1\u001b[0m \u001b[38;5;28;01mdel\u001b[39;00m \u001b[43memployee1\u001b[49m\u001b[43m[\u001b[49m\u001b[38;5;241;43m25\u001b[39;49m\u001b[43m]\u001b[49m\n",
      "\u001b[1;31mIndexError\u001b[0m: list assignment index out of range"
     ]
    }
   ],
   "source": [
    "del employee1[25]"
   ]
  },
  {
   "cell_type": "code",
   "execution_count": 23,
   "id": "fb3b6e65",
   "metadata": {},
   "outputs": [],
   "source": [
    "employee1[0] = \"Muhammad Asad\"\n",
    "employee2[0] = \"Iqra Karamullah\""
   ]
  },
  {
   "cell_type": "code",
   "execution_count": 24,
   "id": "a2becd06",
   "metadata": {},
   "outputs": [
    {
     "data": {
      "text/plain": [
       "['Muhammad Asad', 'Data Scientist', 4000, '0.5%']"
      ]
     },
     "execution_count": 24,
     "metadata": {},
     "output_type": "execute_result"
    }
   ],
   "source": [
    "employee1"
   ]
  },
  {
   "cell_type": "code",
   "execution_count": 25,
   "id": "e9e87381",
   "metadata": {},
   "outputs": [
    {
     "data": {
      "text/plain": [
       "['Iqra Karamullah', 'Data Scientist', 3800, '0.35%']"
      ]
     },
     "execution_count": 25,
     "metadata": {},
     "output_type": "execute_result"
    }
   ],
   "source": [
    "employee2"
   ]
  },
  {
   "cell_type": "code",
   "execution_count": 26,
   "id": "ecf97d01",
   "metadata": {},
   "outputs": [],
   "source": [
    "employee1[-2] += 500\n",
    "employee2[-2] += 500"
   ]
  },
  {
   "cell_type": "code",
   "execution_count": 27,
   "id": "f7af983e",
   "metadata": {},
   "outputs": [
    {
     "data": {
      "text/plain": [
       "['Muhammad Asad', 'Data Scientist', 4500, '0.5%']"
      ]
     },
     "execution_count": 27,
     "metadata": {},
     "output_type": "execute_result"
    }
   ],
   "source": [
    "employee1"
   ]
  },
  {
   "cell_type": "code",
   "execution_count": 28,
   "id": "ae3d7ea4",
   "metadata": {},
   "outputs": [
    {
     "data": {
      "text/plain": [
       "['Iqra Karamullah', 'Data Scientist', 4300, '0.35%']"
      ]
     },
     "execution_count": 28,
     "metadata": {},
     "output_type": "execute_result"
    }
   ],
   "source": [
    "employee2"
   ]
  },
  {
   "cell_type": "code",
   "execution_count": 29,
   "id": "9de9110f",
   "metadata": {},
   "outputs": [
    {
     "data": {
      "text/plain": [
       "1.1"
      ]
     },
     "execution_count": 29,
     "metadata": {},
     "output_type": "execute_result"
    }
   ],
   "source": [
    "(100+10)/100"
   ]
  },
  {
   "cell_type": "code",
   "execution_count": 30,
   "id": "dc0b51ad",
   "metadata": {},
   "outputs": [],
   "source": [
    "employees = [employee1, employee2,\"Waqas\"]"
   ]
  },
  {
   "cell_type": "code",
   "execution_count": 31,
   "id": "20436263",
   "metadata": {},
   "outputs": [
    {
     "data": {
      "text/plain": [
       "[['Muhammad Asad', 'Data Scientist', 4500, '0.5%'],\n",
       " ['Iqra Karamullah', 'Data Scientist', 4300, '0.35%'],\n",
       " 'Waqas']"
      ]
     },
     "execution_count": 31,
     "metadata": {},
     "output_type": "execute_result"
    }
   ],
   "source": [
    "employees"
   ]
  },
  {
   "cell_type": "code",
   "execution_count": 32,
   "id": "bd441c94",
   "metadata": {},
   "outputs": [
    {
     "data": {
      "text/plain": [
       "3"
      ]
     },
     "execution_count": 32,
     "metadata": {},
     "output_type": "execute_result"
    }
   ],
   "source": [
    "len(employees)"
   ]
  },
  {
   "cell_type": "code",
   "execution_count": 33,
   "id": "04d9a5dd",
   "metadata": {},
   "outputs": [
    {
     "ename": "ValueError",
     "evalue": "list.remove(x): x not in list",
     "output_type": "error",
     "traceback": [
      "\u001b[1;31m---------------------------------------------------------------------------\u001b[0m",
      "\u001b[1;31mValueError\u001b[0m                                Traceback (most recent call last)",
      "Cell \u001b[1;32mIn[33], line 1\u001b[0m\n\u001b[1;32m----> 1\u001b[0m \u001b[43memployees\u001b[49m\u001b[38;5;241;43m.\u001b[39;49m\u001b[43mremove\u001b[49m\u001b[43m(\u001b[49m\u001b[38;5;124;43m\"\u001b[39;49m\u001b[38;5;124;43mwaqas\u001b[39;49m\u001b[38;5;124;43m\"\u001b[39;49m\u001b[43m)\u001b[49m\n",
      "\u001b[1;31mValueError\u001b[0m: list.remove(x): x not in list"
     ]
    }
   ],
   "source": [
    "employees.remove(\"waqas\")"
   ]
  },
  {
   "cell_type": "code",
   "execution_count": 34,
   "id": "00639b72",
   "metadata": {},
   "outputs": [
    {
     "data": {
      "text/plain": [
       "87"
      ]
     },
     "execution_count": 34,
     "metadata": {},
     "output_type": "execute_result"
    }
   ],
   "source": [
    "ord(\"W\")"
   ]
  },
  {
   "cell_type": "code",
   "execution_count": 35,
   "id": "3ea6f51e",
   "metadata": {},
   "outputs": [
    {
     "data": {
      "text/plain": [
       "119"
      ]
     },
     "execution_count": 35,
     "metadata": {},
     "output_type": "execute_result"
    }
   ],
   "source": [
    "ord(\"w\")"
   ]
  },
  {
   "cell_type": "code",
   "execution_count": 36,
   "id": "2518aee7",
   "metadata": {},
   "outputs": [],
   "source": [
    "employees.remove(\"Waqas\")"
   ]
  },
  {
   "cell_type": "code",
   "execution_count": 37,
   "id": "95f57bb6",
   "metadata": {},
   "outputs": [
    {
     "data": {
      "text/plain": [
       "[['Muhammad Asad', 'Data Scientist', 4500, '0.5%'],\n",
       " ['Iqra Karamullah', 'Data Scientist', 4300, '0.35%']]"
      ]
     },
     "execution_count": 37,
     "metadata": {},
     "output_type": "execute_result"
    }
   ],
   "source": [
    "employees"
   ]
  },
  {
   "cell_type": "code",
   "execution_count": 38,
   "id": "c4b679d2",
   "metadata": {},
   "outputs": [],
   "source": [
    "employees.append([['Sajjad Ali', 'Data Scientist', 5500, '0.6%']])"
   ]
  },
  {
   "cell_type": "code",
   "execution_count": 40,
   "id": "7383b1d4",
   "metadata": {},
   "outputs": [
    {
     "data": {
      "text/plain": [
       "[['Muhammad Asad', 'Data Scientist', 4500, '0.5%'],\n",
       " ['Iqra Karamullah', 'Data Scientist', 4300, '0.35%'],\n",
       " [['Sajjad Ali', 'Data Scientist', 5500, '0.6%']]]"
      ]
     },
     "execution_count": 40,
     "metadata": {},
     "output_type": "execute_result"
    }
   ],
   "source": [
    "employees # nested list or list of lists"
   ]
  },
  {
   "cell_type": "code",
   "execution_count": 41,
   "id": "99c29dcc",
   "metadata": {},
   "outputs": [],
   "source": [
    "employees.remove([['Sajjad Ali', 'Data Scientist', 5500, '0.6%']])"
   ]
  },
  {
   "cell_type": "code",
   "execution_count": 42,
   "id": "d0c76f70",
   "metadata": {},
   "outputs": [],
   "source": [
    "employees.append(['Sajjad Ali', 'Data Scientist', 5500, '0.6%'])"
   ]
  },
  {
   "cell_type": "code",
   "execution_count": 43,
   "id": "aa4d89c9",
   "metadata": {},
   "outputs": [
    {
     "data": {
      "text/plain": [
       "[['Muhammad Asad', 'Data Scientist', 4500, '0.5%'],\n",
       " ['Iqra Karamullah', 'Data Scientist', 4300, '0.35%'],\n",
       " ['Sajjad Ali', 'Data Scientist', 5500, '0.6%']]"
      ]
     },
     "execution_count": 43,
     "metadata": {},
     "output_type": "execute_result"
    }
   ],
   "source": [
    "employees"
   ]
  },
  {
   "cell_type": "code",
   "execution_count": 44,
   "id": "65a01f0a",
   "metadata": {},
   "outputs": [
    {
     "data": {
      "text/plain": [
       "'Sajjad Ali'"
      ]
     },
     "execution_count": 44,
     "metadata": {},
     "output_type": "execute_result"
    }
   ],
   "source": [
    "employees[-1][0]"
   ]
  },
  {
   "cell_type": "code",
   "execution_count": 48,
   "id": "cbdc307f",
   "metadata": {},
   "outputs": [],
   "source": [
    "contributions = None"
   ]
  },
  {
   "cell_type": "code",
   "execution_count": 64,
   "id": "48e34206",
   "metadata": {},
   "outputs": [],
   "source": [
    "contributions = \"40.50;30.92;15.25,18.25\""
   ]
  },
  {
   "cell_type": "code",
   "execution_count": 65,
   "id": "cc7b750c",
   "metadata": {},
   "outputs": [
    {
     "data": {
      "text/plain": [
       "str"
      ]
     },
     "execution_count": 65,
     "metadata": {},
     "output_type": "execute_result"
    }
   ],
   "source": [
    "type(contributions)"
   ]
  },
  {
   "cell_type": "code",
   "execution_count": 66,
   "id": "131a7bff",
   "metadata": {},
   "outputs": [
    {
     "data": {
      "text/plain": [
       "['__add__',\n",
       " '__class__',\n",
       " '__contains__',\n",
       " '__delattr__',\n",
       " '__dir__',\n",
       " '__doc__',\n",
       " '__eq__',\n",
       " '__format__',\n",
       " '__ge__',\n",
       " '__getattribute__',\n",
       " '__getitem__',\n",
       " '__getnewargs__',\n",
       " '__getstate__',\n",
       " '__gt__',\n",
       " '__hash__',\n",
       " '__init__',\n",
       " '__init_subclass__',\n",
       " '__iter__',\n",
       " '__le__',\n",
       " '__len__',\n",
       " '__lt__',\n",
       " '__mod__',\n",
       " '__mul__',\n",
       " '__ne__',\n",
       " '__new__',\n",
       " '__reduce__',\n",
       " '__reduce_ex__',\n",
       " '__repr__',\n",
       " '__rmod__',\n",
       " '__rmul__',\n",
       " '__setattr__',\n",
       " '__sizeof__',\n",
       " '__str__',\n",
       " '__subclasshook__',\n",
       " 'capitalize',\n",
       " 'casefold',\n",
       " 'center',\n",
       " 'count',\n",
       " 'encode',\n",
       " 'endswith',\n",
       " 'expandtabs',\n",
       " 'find',\n",
       " 'format',\n",
       " 'format_map',\n",
       " 'index',\n",
       " 'isalnum',\n",
       " 'isalpha',\n",
       " 'isascii',\n",
       " 'isdecimal',\n",
       " 'isdigit',\n",
       " 'isidentifier',\n",
       " 'islower',\n",
       " 'isnumeric',\n",
       " 'isprintable',\n",
       " 'isspace',\n",
       " 'istitle',\n",
       " 'isupper',\n",
       " 'join',\n",
       " 'ljust',\n",
       " 'lower',\n",
       " 'lstrip',\n",
       " 'maketrans',\n",
       " 'partition',\n",
       " 'removeprefix',\n",
       " 'removesuffix',\n",
       " 'replace',\n",
       " 'rfind',\n",
       " 'rindex',\n",
       " 'rjust',\n",
       " 'rpartition',\n",
       " 'rsplit',\n",
       " 'rstrip',\n",
       " 'split',\n",
       " 'splitlines',\n",
       " 'startswith',\n",
       " 'strip',\n",
       " 'swapcase',\n",
       " 'title',\n",
       " 'translate',\n",
       " 'upper',\n",
       " 'zfill']"
      ]
     },
     "execution_count": 66,
     "metadata": {},
     "output_type": "execute_result"
    }
   ],
   "source": [
    "dir(str)"
   ]
  },
  {
   "cell_type": "code",
   "execution_count": 67,
   "id": "fa7128db",
   "metadata": {},
   "outputs": [
    {
     "data": {
      "text/plain": [
       "['__add__',\n",
       " '__class__',\n",
       " '__contains__',\n",
       " '__delattr__',\n",
       " '__dir__',\n",
       " '__doc__',\n",
       " '__eq__',\n",
       " '__format__',\n",
       " '__ge__',\n",
       " '__getattribute__',\n",
       " '__getitem__',\n",
       " '__getnewargs__',\n",
       " '__getstate__',\n",
       " '__gt__',\n",
       " '__hash__',\n",
       " '__init__',\n",
       " '__init_subclass__',\n",
       " '__iter__',\n",
       " '__le__',\n",
       " '__len__',\n",
       " '__lt__',\n",
       " '__mod__',\n",
       " '__mul__',\n",
       " '__ne__',\n",
       " '__new__',\n",
       " '__reduce__',\n",
       " '__reduce_ex__',\n",
       " '__repr__',\n",
       " '__rmod__',\n",
       " '__rmul__',\n",
       " '__setattr__',\n",
       " '__sizeof__',\n",
       " '__str__',\n",
       " '__subclasshook__',\n",
       " 'capitalize',\n",
       " 'casefold',\n",
       " 'center',\n",
       " 'count',\n",
       " 'encode',\n",
       " 'endswith',\n",
       " 'expandtabs',\n",
       " 'find',\n",
       " 'format',\n",
       " 'format_map',\n",
       " 'index',\n",
       " 'isalnum',\n",
       " 'isalpha',\n",
       " 'isascii',\n",
       " 'isdecimal',\n",
       " 'isdigit',\n",
       " 'isidentifier',\n",
       " 'islower',\n",
       " 'isnumeric',\n",
       " 'isprintable',\n",
       " 'isspace',\n",
       " 'istitle',\n",
       " 'isupper',\n",
       " 'join',\n",
       " 'ljust',\n",
       " 'lower',\n",
       " 'lstrip',\n",
       " 'maketrans',\n",
       " 'partition',\n",
       " 'removeprefix',\n",
       " 'removesuffix',\n",
       " 'replace',\n",
       " 'rfind',\n",
       " 'rindex',\n",
       " 'rjust',\n",
       " 'rpartition',\n",
       " 'rsplit',\n",
       " 'rstrip',\n",
       " 'split',\n",
       " 'splitlines',\n",
       " 'startswith',\n",
       " 'strip',\n",
       " 'swapcase',\n",
       " 'title',\n",
       " 'translate',\n",
       " 'upper',\n",
       " 'zfill']"
      ]
     },
     "execution_count": 67,
     "metadata": {},
     "output_type": "execute_result"
    }
   ],
   "source": [
    "dir(type(contributions))"
   ]
  },
  {
   "cell_type": "code",
   "execution_count": 68,
   "id": "ee529790",
   "metadata": {},
   "outputs": [
    {
     "data": {
      "text/plain": [
       "'40.50;30.92;15.25,18.25'"
      ]
     },
     "execution_count": 68,
     "metadata": {},
     "output_type": "execute_result"
    }
   ],
   "source": [
    "contributions"
   ]
  },
  {
   "cell_type": "code",
   "execution_count": 69,
   "id": "a875f058",
   "metadata": {},
   "outputs": [
    {
     "data": {
      "text/plain": [
       "['40.50', '30.92', '15.25,18.25']"
      ]
     },
     "execution_count": 69,
     "metadata": {},
     "output_type": "execute_result"
    }
   ],
   "source": [
    "contributions.split(\";\")"
   ]
  },
  {
   "cell_type": "code",
   "execution_count": 70,
   "id": "b69f3677",
   "metadata": {},
   "outputs": [],
   "source": [
    "receipts = contributions.split(\";\")"
   ]
  },
  {
   "cell_type": "code",
   "execution_count": 71,
   "id": "e8d163ac",
   "metadata": {},
   "outputs": [
    {
     "data": {
      "text/plain": [
       "['40.50', '30.92', '15.25,18.25']"
      ]
     },
     "execution_count": 71,
     "metadata": {},
     "output_type": "execute_result"
    }
   ],
   "source": [
    "receipts"
   ]
  },
  {
   "cell_type": "code",
   "execution_count": 72,
   "id": "38e8e1ea",
   "metadata": {},
   "outputs": [],
   "source": [
    "fixed_values = receipts[2].split(\",\")"
   ]
  },
  {
   "cell_type": "code",
   "execution_count": 73,
   "id": "5010c6be",
   "metadata": {},
   "outputs": [
    {
     "data": {
      "text/plain": [
       "['15.25', '18.25']"
      ]
     },
     "execution_count": 73,
     "metadata": {},
     "output_type": "execute_result"
    }
   ],
   "source": [
    "fixed_values"
   ]
  },
  {
   "cell_type": "code",
   "execution_count": 74,
   "id": "d33d4952",
   "metadata": {},
   "outputs": [],
   "source": [
    "receipts.append(fixed_values)"
   ]
  },
  {
   "cell_type": "code",
   "execution_count": 75,
   "id": "dd49893d",
   "metadata": {},
   "outputs": [
    {
     "data": {
      "text/plain": [
       "['40.50', '30.92', '15.25,18.25', ['15.25', '18.25']]"
      ]
     },
     "execution_count": 75,
     "metadata": {},
     "output_type": "execute_result"
    }
   ],
   "source": [
    "receipts"
   ]
  },
  {
   "cell_type": "code",
   "execution_count": 76,
   "id": "952db0f1",
   "metadata": {},
   "outputs": [],
   "source": [
    "del receipts[-1]\n",
    "del receipts[-1]"
   ]
  },
  {
   "cell_type": "code",
   "execution_count": 77,
   "id": "3a5f464f",
   "metadata": {},
   "outputs": [
    {
     "data": {
      "text/plain": [
       "['40.50', '30.92']"
      ]
     },
     "execution_count": 77,
     "metadata": {},
     "output_type": "execute_result"
    }
   ],
   "source": [
    "receipts"
   ]
  },
  {
   "cell_type": "code",
   "execution_count": 78,
   "id": "655a5b96",
   "metadata": {},
   "outputs": [
    {
     "data": {
      "text/plain": [
       "['__add__',\n",
       " '__class__',\n",
       " '__class_getitem__',\n",
       " '__contains__',\n",
       " '__delattr__',\n",
       " '__delitem__',\n",
       " '__dir__',\n",
       " '__doc__',\n",
       " '__eq__',\n",
       " '__format__',\n",
       " '__ge__',\n",
       " '__getattribute__',\n",
       " '__getitem__',\n",
       " '__getstate__',\n",
       " '__gt__',\n",
       " '__hash__',\n",
       " '__iadd__',\n",
       " '__imul__',\n",
       " '__init__',\n",
       " '__init_subclass__',\n",
       " '__iter__',\n",
       " '__le__',\n",
       " '__len__',\n",
       " '__lt__',\n",
       " '__mul__',\n",
       " '__ne__',\n",
       " '__new__',\n",
       " '__reduce__',\n",
       " '__reduce_ex__',\n",
       " '__repr__',\n",
       " '__reversed__',\n",
       " '__rmul__',\n",
       " '__setattr__',\n",
       " '__setitem__',\n",
       " '__sizeof__',\n",
       " '__str__',\n",
       " '__subclasshook__',\n",
       " 'append',\n",
       " 'clear',\n",
       " 'copy',\n",
       " 'count',\n",
       " 'extend',\n",
       " 'index',\n",
       " 'insert',\n",
       " 'pop',\n",
       " 'remove',\n",
       " 'reverse',\n",
       " 'sort']"
      ]
     },
     "execution_count": 78,
     "metadata": {},
     "output_type": "execute_result"
    }
   ],
   "source": [
    "dir(receipts)"
   ]
  },
  {
   "cell_type": "code",
   "execution_count": 79,
   "id": "a40b423c",
   "metadata": {},
   "outputs": [],
   "source": [
    "receipts.extend(fixed_values)"
   ]
  },
  {
   "cell_type": "code",
   "execution_count": 80,
   "id": "937259dc",
   "metadata": {},
   "outputs": [
    {
     "data": {
      "text/plain": [
       "['40.50', '30.92', '15.25', '18.25']"
      ]
     },
     "execution_count": 80,
     "metadata": {},
     "output_type": "execute_result"
    }
   ],
   "source": [
    "receipts"
   ]
  },
  {
   "cell_type": "code",
   "execution_count": 83,
   "id": "613276a2",
   "metadata": {},
   "outputs": [
    {
     "name": "stdout",
     "output_type": "stream",
     "text": [
      "40.50\n",
      "30.92\n",
      "15.25\n",
      "18.25\n"
     ]
    }
   ],
   "source": [
    "# Loop\n",
    "\n",
    "\n",
    "for d in receipts:\n",
    "    print(d)"
   ]
  },
  {
   "cell_type": "code",
   "execution_count": 82,
   "id": "2fafc166",
   "metadata": {},
   "outputs": [],
   "source": [
    "import time"
   ]
  },
  {
   "cell_type": "code",
   "execution_count": 86,
   "id": "000baa04",
   "metadata": {},
   "outputs": [
    {
     "name": "stdout",
     "output_type": "stream",
     "text": [
      "40.50\n",
      "30.92\n",
      "15.25\n",
      "18.25\n"
     ]
    }
   ],
   "source": [
    "for d in receipts:\n",
    "    print(d)\n",
    "    time.sleep(1.2)"
   ]
  },
  {
   "cell_type": "code",
   "execution_count": 87,
   "id": "429de179",
   "metadata": {},
   "outputs": [
    {
     "data": {
      "text/plain": [
       "['Muhammad Asad', 'Data Scientist', 4500, '0.5%']"
      ]
     },
     "execution_count": 87,
     "metadata": {},
     "output_type": "execute_result"
    }
   ],
   "source": [
    "employee1"
   ]
  },
  {
   "cell_type": "code",
   "execution_count": 88,
   "id": "45e9d492",
   "metadata": {},
   "outputs": [
    {
     "data": {
      "text/plain": [
       "['Data Scientist', 4500]"
      ]
     },
     "execution_count": 88,
     "metadata": {},
     "output_type": "execute_result"
    }
   ],
   "source": [
    "employee1[1:-1] # slicing"
   ]
  },
  {
   "cell_type": "code",
   "execution_count": 89,
   "id": "15449045",
   "metadata": {},
   "outputs": [
    {
     "data": {
      "text/plain": [
       "['Data Scientist', 4500, '0.5%']"
      ]
     },
     "execution_count": 89,
     "metadata": {},
     "output_type": "execute_result"
    }
   ],
   "source": [
    "employee1[1:]"
   ]
  },
  {
   "cell_type": "code",
   "execution_count": 90,
   "id": "b7a8246f",
   "metadata": {},
   "outputs": [
    {
     "data": {
      "text/plain": [
       "['Muhammad Asad', 'Data Scientist', 4500]"
      ]
     },
     "execution_count": 90,
     "metadata": {},
     "output_type": "execute_result"
    }
   ],
   "source": [
    "employee1[0:-1]"
   ]
  },
  {
   "cell_type": "code",
   "execution_count": 91,
   "id": "14181bca",
   "metadata": {},
   "outputs": [
    {
     "data": {
      "text/plain": [
       "['Muhammad Asad', 'Data Scientist', 4500]"
      ]
     },
     "execution_count": 91,
     "metadata": {},
     "output_type": "execute_result"
    }
   ],
   "source": [
    "employee1[:-1]"
   ]
  },
  {
   "cell_type": "code",
   "execution_count": null,
   "id": "49b456b3",
   "metadata": {},
   "outputs": [],
   "source": [
    "employee1[start:end+1]"
   ]
  }
 ],
 "metadata": {
  "kernelspec": {
   "display_name": "Python 3 (ipykernel)",
   "language": "python",
   "name": "python3"
  },
  "language_info": {
   "codemirror_mode": {
    "name": "ipython",
    "version": 3
   },
   "file_extension": ".py",
   "mimetype": "text/x-python",
   "name": "python",
   "nbconvert_exporter": "python",
   "pygments_lexer": "ipython3",
   "version": "3.11.3"
  }
 },
 "nbformat": 4,
 "nbformat_minor": 5
}
