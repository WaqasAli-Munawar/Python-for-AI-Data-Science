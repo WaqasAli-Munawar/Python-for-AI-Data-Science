{
 "cells": [
  {
   "cell_type": "markdown",
   "id": "1989f4fc",
   "metadata": {},
   "source": [
    "# Virtual Garden"
   ]
  },
  {
   "cell_type": "code",
   "execution_count": 1,
   "id": "a3c649c9",
   "metadata": {},
   "outputs": [],
   "source": [
    "class Plant:\n",
    "    def __init__(self, name, harvest_yield):\n",
    "        self.name = name\n",
    "        self.harvest_yield = harvest_yield\n",
    "        self.growth_stages = [\"seed\", \"sprout\", \"mature\", \"flower\", \"fruit\", \"harvest_ready\"]\n",
    "        self.current_stage = self.growth_stages[0]\n",
    "        self.harvestable = False\n",
    "        \n",
    "    def grow(self):\n",
    "        current_index = self.growth_stages.index(self.current_stage)\n",
    "        \n",
    "        if current_index < (len(self.growth_stages)-1):\n",
    "            self.current_stage = self.growth_stages[current_index + 1]\n",
    "            if self.current_stage == self.growth_stages[-1]:\n",
    "                self.harvestable = True\n",
    "                \n",
    "        elif self.current_stage == self.growth_stages[-1]:\n",
    "            print(f\"{self.name} is already fully grown\")\n",
    "            \n",
    "    def harvest(self):\n",
    "        if self.harvestable:\n",
    "            self.harvestable = False\n",
    "            return self.harvest_yield\n",
    "        else:\n",
    "            print(f\"Your {self.name} is not haravestable\")\n",
    "            "
   ]
  },
  {
   "cell_type": "code",
   "execution_count": 2,
   "id": "5dac0d45",
   "metadata": {},
   "outputs": [],
   "source": [
    "class Tomato(Plant):\n",
    "    def __init__(self):\n",
    "        super().__init__(\"Tomato\", 10)\n",
    "        \n",
    "\n",
    "class Potato(Plant):\n",
    "    def __init__(self):\n",
    "        super().__init__(\"Potato\", 3)\n",
    "        self.growth_stages = [\"seed\", \"sprout\", \"mature\", \"harvest_ready\"]\n",
    "        \n",
    "class Carrot(Plant):\n",
    "    def __init__(self):\n",
    "        super().__init__(\"Carrot\", 5)\n",
    "        self.growth_stages = [\"seed\", \"sprout\", \"mature\", \"harvest_ready\"]"
   ]
  },
  {
   "cell_type": "code",
   "execution_count": 3,
   "id": "d083bf28",
   "metadata": {},
   "outputs": [],
   "source": [
    "def select_seed(items): # here items will replace with an inventory dictionary\n",
    "    item_list = list(items.keys())\n",
    "    \n",
    "    for i in range(len(item_list)):\n",
    "        item_name = item_list[i]\n",
    "        print(f\"{i+1}. {item_name}\")\n",
    "        \n",
    "    while True:\n",
    "        user_input = input(\"Select your seed! number \")\n",
    "        try:\n",
    "            user_input = int(user_input)\n",
    "            if 0 <user_input <= len(item_list):\n",
    "                return item_list[user_input -1]\n",
    "            else:\n",
    "                print(\"Invalid Input\")\n",
    "        except:\n",
    "            print(\"Invalid Input\")"
   ]
  },
  {
   "cell_type": "code",
   "execution_count": 4,
   "id": "abf64abb",
   "metadata": {},
   "outputs": [],
   "source": [
    "import random\n",
    "\n",
    "seeds = [\"tomato\", \"potato\", \"carrot\"]"
   ]
  },
  {
   "cell_type": "code",
   "execution_count": 5,
   "id": "2e4019bf",
   "metadata": {},
   "outputs": [],
   "source": [
    "class Gardner:\n",
    "    \"\"\"Represent a gardner who can plant and harvest plants.\"\"\"\n",
    "    \n",
    "    plant_dict = {\"tomato\":Tomato, \"potato\": Potato, \"carrot\": Carrot}\n",
    "    \n",
    "    def __init__(self, name):\n",
    "        self.name = name\n",
    "        self.inventory = {} # seed name and quantity\n",
    "        self.planted_plant = []\n",
    "        \n",
    "    def get_seed(self):\n",
    "        seed = random.choice(seeds)\n",
    "        \n",
    "        if seed not in self.inventory:\n",
    "            self.inventory[seed] = 1\n",
    "        else:\n",
    "            self.inventory[seed] += 1\n",
    "            \n",
    "        print(f\"{self.name} has found the {seed} seed!\")\n",
    "        \n",
    "    def plant(self):\n",
    "        selected_plant = select_seed(self.inventory)\n",
    "        \n",
    "        if selected_plant in self.inventory and self.inventory[selected_plant] > 0:\n",
    "            self.inventory[selected_plant] -= 1\n",
    "            if self.inventory[selected_plant] == 0:\n",
    "                del self.inventory[selected_plant]\n",
    "            new_plant = self.plant_dict[selected_plant]()\n",
    "            \n",
    "            self.planted_plant.append(new_plant)\n",
    "            print(f\"{self.name} has planted a {selected_plant} plant!\")\n",
    "            \n",
    "        else:\n",
    "            print(f\"{self.name} does not have any {selected_plant} plant!\")\n",
    "            \n",
    "    def tend(self):\n",
    "        for plant in self.planted_plant:\n",
    "            if plant.harvestable:\n",
    "                print(f\"{plant.name} is ready to be harvested!\")\n",
    "            else:\n",
    "                plant.grow()\n",
    "                print(f\"{plant.name} is on the {plant.current_stage} stage\")\n",
    "    def harvset(self):\n",
    "        pass\n",
    "        \n",
    "                \n"
   ]
  },
  {
   "cell_type": "code",
   "execution_count": 6,
   "id": "b14ba318",
   "metadata": {},
   "outputs": [],
   "source": [
    "def select_seed(items): # here items will replace with an inventory dictionary\n",
    "    if type(items) == dict:\n",
    "        item_list = list(items.keys())\n",
    "    else:\n",
    "        item_list = items\n",
    "    \n",
    "    for i in range(len(item_list)):\n",
    "        item_name = item_list[i]\n",
    "        print(f\"{i+1}. {item_name}\")\n",
    "        \n",
    "    while True:\n",
    "        user_input = input(\"Select your seed! number \")\n",
    "        try:\n",
    "            user_input = int(user_input)\n",
    "            if 0 <user_input <= len(item_list):\n",
    "                return item_list[user_input -1]\n",
    "            else:\n",
    "                print(\"Invalid Input\")\n",
    "        except:\n",
    "            print(\"Invalid Input\")"
   ]
  },
  {
   "cell_type": "code",
   "execution_count": 7,
   "id": "40854c8e",
   "metadata": {},
   "outputs": [],
   "source": [
    "class Gardner:\n",
    "    \"\"\"Represent a gardner who can plant and harvest plants.\"\"\"\n",
    "    \n",
    "    plant_dict = {\"tomato\":Tomato, \"potato\": Potato, \"carrot\": Carrot}\n",
    "    \n",
    "    def __init__(self, name):\n",
    "        self.name = name\n",
    "        self.inventory = {} # seed name and quantity\n",
    "        self.planted_plant = []\n",
    "        \n",
    "    def get_seed(self):\n",
    "        seed = random.choice(seeds)\n",
    "        \n",
    "        if seed not in self.inventory:\n",
    "            self.inventory[seed] = 1\n",
    "        else:\n",
    "            self.inventory[seed] += 1\n",
    "            \n",
    "        print(f\"{self.name} has found the {seed} seed!\")\n",
    "        \n",
    "    def plant(self):\n",
    "        selected_plant = select_seed(self.inventory)\n",
    "        \n",
    "        if selected_plant in self.inventory and self.inventory[selected_plant] > 0:\n",
    "            self.inventory[selected_plant] -= 1\n",
    "            if self.inventory[selected_plant] == 0:\n",
    "                del self.inventory[selected_plant]\n",
    "            new_plant = self.plant_dict[selected_plant]()\n",
    "            \n",
    "            self.planted_plant.append(new_plant)\n",
    "            print(f\"{self.name} has planted a {selected_plant} plant!\")\n",
    "            \n",
    "        else:\n",
    "            print(f\"{self.name} does not have any {selected_plant} plant!\")\n",
    "            \n",
    "    def tend(self):\n",
    "        for plant in self.planted_plant:\n",
    "            if plant.harvestable:\n",
    "                print(f\"{plant.name} is ready to be harvested!\")\n",
    "            else:\n",
    "                plant.grow()\n",
    "                print(f\"{plant.name} is on the {plant.current_stage} stage\")\n",
    "    def harvest(self):\n",
    "        selected_plant = select_seed(self.planted_plant)\n",
    "        if selected_plant.harvestable:\n",
    "            if selected_plant not in self.inventory:\n",
    "                self.inventory[selected_plant] = selected_plant.harvest()\n",
    "            else:\n",
    "                self.inventory[selected_plant] += selected_plant.harvest()\n",
    "                \n",
    "            print(f\"You have harvested a {selected_plant.name}\")\n",
    "            self.planted_plant.remove(selected_plant)\n",
    "        else:\n",
    "            print(f\"You can not harvest {selected_plant.name}!\") \n"
   ]
  },
  {
   "cell_type": "code",
   "execution_count": 8,
   "id": "cdde7253",
   "metadata": {},
   "outputs": [
    {
     "name": "stdout",
     "output_type": "stream",
     "text": [
      "Waqas has found the carrot seed!\n"
     ]
    }
   ],
   "source": [
    "waqas = Gardner(\"Waqas\")\n",
    "waqas.get_seed()"
   ]
  },
  {
   "cell_type": "code",
   "execution_count": 9,
   "id": "535939a2",
   "metadata": {},
   "outputs": [
    {
     "data": {
      "text/plain": [
       "{'carrot': 1}"
      ]
     },
     "execution_count": 9,
     "metadata": {},
     "output_type": "execute_result"
    }
   ],
   "source": [
    "waqas.inventory"
   ]
  },
  {
   "cell_type": "code",
   "execution_count": null,
   "id": "a2ea954e",
   "metadata": {},
   "outputs": [
    {
     "name": "stdout",
     "output_type": "stream",
     "text": [
      "1. carrot\n"
     ]
    }
   ],
   "source": [
    "waqas.plant()"
   ]
  },
  {
   "cell_type": "code",
   "execution_count": null,
   "id": "2a90a852",
   "metadata": {},
   "outputs": [],
   "source": [
    "waqas.inventory"
   ]
  },
  {
   "cell_type": "code",
   "execution_count": null,
   "id": "5663477e",
   "metadata": {},
   "outputs": [],
   "source": [
    "waqas.tend()"
   ]
  },
  {
   "cell_type": "code",
   "execution_count": null,
   "id": "ae351810",
   "metadata": {},
   "outputs": [],
   "source": [
    "waqas.tend()"
   ]
  },
  {
   "cell_type": "code",
   "execution_count": null,
   "id": "a0340704",
   "metadata": {},
   "outputs": [],
   "source": [
    "waqas.harvest()"
   ]
  },
  {
   "cell_type": "code",
   "execution_count": null,
   "id": "34de82c5",
   "metadata": {},
   "outputs": [],
   "source": []
  }
 ],
 "metadata": {
  "kernelspec": {
   "display_name": "Python 3 (ipykernel)",
   "language": "python",
   "name": "python3"
  },
  "language_info": {
   "codemirror_mode": {
    "name": "ipython",
    "version": 3
   },
   "file_extension": ".py",
   "mimetype": "text/x-python",
   "name": "python",
   "nbconvert_exporter": "python",
   "pygments_lexer": "ipython3",
   "version": "3.11.5"
  }
 },
 "nbformat": 4,
 "nbformat_minor": 5
}
