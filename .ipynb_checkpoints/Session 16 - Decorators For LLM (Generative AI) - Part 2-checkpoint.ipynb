{
 "cells": [
  {
   "cell_type": "markdown",
   "id": "5d02611a",
   "metadata": {},
   "source": [
    "Decorators For LLM (Generative AI) - Continue"
   ]
  },
  {
   "cell_type": "code",
   "execution_count": 1,
   "id": "1fe1f129",
   "metadata": {},
   "outputs": [
    {
     "name": "stdout",
     "output_type": "stream",
     "text": [
      "Executing smart home system...\n",
      "Adjusting Lighting\n",
      "Smart home system has been executed\n"
     ]
    }
   ],
   "source": [
    "def log_execution(original_function):\n",
    "    def wrapper():\n",
    "        print(\"Executing smart home system...\")\n",
    "        original_function()\n",
    "        print(\"Smart home system has been executed\")\n",
    "    return wrapper\n",
    "\n",
    "@log_execution \n",
    "def adjust_lighting():\n",
    "    print(\"Adjusting Lighting\")\n",
    "\n",
    "adjust_lighting()"
   ]
  },
  {
   "cell_type": "code",
   "execution_count": null,
   "id": "435a9bd0",
   "metadata": {},
   "outputs": [],
   "source": []
  }
 ],
 "metadata": {
  "kernelspec": {
   "display_name": "Python 3 (ipykernel)",
   "language": "python",
   "name": "python3"
  },
  "language_info": {
   "codemirror_mode": {
    "name": "ipython",
    "version": 3
   },
   "file_extension": ".py",
   "mimetype": "text/x-python",
   "name": "python",
   "nbconvert_exporter": "python",
   "pygments_lexer": "ipython3",
   "version": "3.11.3"
  }
 },
 "nbformat": 4,
 "nbformat_minor": 5
}
