{
 "cells": [
  {
   "cell_type": "markdown",
   "id": "1989f4fc",
   "metadata": {},
   "source": [
    "# Virtual Garden"
   ]
  },
  {
   "cell_type": "code",
   "execution_count": 3,
   "id": "a3c649c9",
   "metadata": {},
   "outputs": [],
   "source": [
    "class Plant:\n",
    "    def __init__(self, name, harvest_yield):\n",
    "        self.name = name\n",
    "        self.harvest_yield = harvest_yield\n",
    "        self.growth_stages = [\"seed\", \"sprout\", \"mature\", \"flower\", \"fruit\", \"harvest_ready\"]\n",
    "        self.current_stage = self.growth_stages[0]\n",
    "        self.harvestable = False\n",
    "        \n",
    "    def grow(self):\n",
    "        current_index = self.growth_stages.index(self.current_stage)\n",
    "        \n",
    "        if current_index < (len(self.growth_stages)-1):\n",
    "            self.current_stage = self.growth_stages[current_index + 1]\n",
    "            if self.current_stage == self.growth_stages[-1]:\n",
    "                self.harvestable = True\n",
    "                \n",
    "        elif self.current_stage == self.growth_stages[-1]:\n",
    "            print(f\"{self.name} is already fully grown\")\n",
    "            \n",
    "    def harvest(self):\n",
    "        if self.harvestable:\n",
    "            self.harvestable = False\n",
    "            return self.harvest_yield\n",
    "        else:\n",
    "            print(f\"Your {self.name} is not haravestable\")\n",
    "            "
   ]
  },
  {
   "cell_type": "code",
   "execution_count": 14,
   "id": "66b91603",
   "metadata": {},
   "outputs": [],
   "source": [
    "class Gardner:\n",
    "    \"\"\"Represent a gardner who can plant and harvest plants.\"\"\"\n",
    "    pass"
   ]
  },
  {
   "cell_type": "code",
   "execution_count": null,
   "id": "f060e211",
   "metadata": {},
   "outputs": [],
   "source": []
  }
 ],
 "metadata": {
  "kernelspec": {
   "display_name": "Python 3 (ipykernel)",
   "language": "python",
   "name": "python3"
  },
  "language_info": {
   "codemirror_mode": {
    "name": "ipython",
    "version": 3
   },
   "file_extension": ".py",
   "mimetype": "text/x-python",
   "name": "python",
   "nbconvert_exporter": "python",
   "pygments_lexer": "ipython3",
   "version": "3.11.5"
  }
 },
 "nbformat": 4,
 "nbformat_minor": 5
}
